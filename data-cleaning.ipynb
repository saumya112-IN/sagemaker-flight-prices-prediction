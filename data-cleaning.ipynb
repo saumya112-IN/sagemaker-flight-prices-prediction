{
 "cells": [
  {
   "cell_type": "markdown",
   "id": "8712e637-4eaf-4674-b259-66d711154330",
   "metadata": {},
   "source": [
    "## 1. Importing Libraries"
   ]
  },
  {
   "cell_type": "code",
   "execution_count": 9,
   "id": "754d3180-1f22-4793-a5ba-2d123621e3b0",
   "metadata": {},
   "outputs": [],
   "source": [
    "import os\n",
    "\n",
    "import numpy as np\n",
    "\n",
    "import pandas as pd\n",
    "\n",
    "from sklearn.model_selection import train_test_split"
   ]
  },
  {
   "cell_type": "markdown",
   "id": "f2b9e3da-a67e-4be7-aa29-b3a7a9439ae0",
   "metadata": {},
   "source": [
    "## 2. Reading The Data"
   ]
  },
  {
   "cell_type": "code",
   "execution_count": 10,
   "id": "11d77518-bd7d-4746-bdf7-740efda376e9",
   "metadata": {},
   "outputs": [],
   "source": [
    "PROJECT_DIR = r\"C:\\Users\\saumya\\OneDrive\\Desktop\\flights-sagemaker-project\"\n",
    "DATA_DIR = \"data\""
   ]
  },
  {
   "cell_type": "code",
   "execution_count": 11,
   "id": "ee2530ef-8b49-4814-93a3-d0fe5ecc3bac",
   "metadata": {},
   "outputs": [],
   "source": [
    "def get_data(name):\n",
    "\tfile_name = f\"{name}.csv\"\n",
    "\tfile_path = os.path.join(PROJECT_DIR, DATA_DIR, file_name)\n",
    "\treturn pd.read_csv(file_path)"
   ]
  },
  {
   "cell_type": "code",
   "execution_count": 12,
   "id": "a14d2ab6-1108-4b09-9ef5-8168b5b2eb7f",
   "metadata": {},
   "outputs": [
    {
     "data": {
      "text/html": [
       "<div>\n",
       "<style scoped>\n",
       "    .dataframe tbody tr th:only-of-type {\n",
       "        vertical-align: middle;\n",
       "    }\n",
       "\n",
       "    .dataframe tbody tr th {\n",
       "        vertical-align: top;\n",
       "    }\n",
       "\n",
       "    .dataframe thead th {\n",
       "        text-align: right;\n",
       "    }\n",
       "</style>\n",
       "<table border=\"1\" class=\"dataframe\">\n",
       "  <thead>\n",
       "    <tr style=\"text-align: right;\">\n",
       "      <th></th>\n",
       "      <th>Airline</th>\n",
       "      <th>Date_of_Journey</th>\n",
       "      <th>Source</th>\n",
       "      <th>Destination</th>\n",
       "      <th>Route</th>\n",
       "      <th>Dep_Time</th>\n",
       "      <th>Arrival_Time</th>\n",
       "      <th>Duration</th>\n",
       "      <th>Total_Stops</th>\n",
       "      <th>Additional_Info</th>\n",
       "      <th>Price</th>\n",
       "    </tr>\n",
       "  </thead>\n",
       "  <tbody>\n",
       "    <tr>\n",
       "      <th>0</th>\n",
       "      <td>IndiGo</td>\n",
       "      <td>24/03/2019</td>\n",
       "      <td>Banglore</td>\n",
       "      <td>New Delhi</td>\n",
       "      <td>BLR → DEL</td>\n",
       "      <td>22:20</td>\n",
       "      <td>01:10 22 Mar</td>\n",
       "      <td>2h 50m</td>\n",
       "      <td>non-stop</td>\n",
       "      <td>No info</td>\n",
       "      <td>3897</td>\n",
       "    </tr>\n",
       "    <tr>\n",
       "      <th>1</th>\n",
       "      <td>Air India</td>\n",
       "      <td>1/05/2019</td>\n",
       "      <td>Kolkata</td>\n",
       "      <td>Banglore</td>\n",
       "      <td>CCU → IXR → BBI → BLR</td>\n",
       "      <td>05:50</td>\n",
       "      <td>13:15</td>\n",
       "      <td>7h 25m</td>\n",
       "      <td>2 stops</td>\n",
       "      <td>No info</td>\n",
       "      <td>7662</td>\n",
       "    </tr>\n",
       "    <tr>\n",
       "      <th>2</th>\n",
       "      <td>Jet Airways</td>\n",
       "      <td>9/06/2019</td>\n",
       "      <td>Delhi</td>\n",
       "      <td>Cochin</td>\n",
       "      <td>DEL → LKO → BOM → COK</td>\n",
       "      <td>09:25</td>\n",
       "      <td>04:25 10 Jun</td>\n",
       "      <td>19h</td>\n",
       "      <td>2 stops</td>\n",
       "      <td>No info</td>\n",
       "      <td>13882</td>\n",
       "    </tr>\n",
       "    <tr>\n",
       "      <th>3</th>\n",
       "      <td>IndiGo</td>\n",
       "      <td>12/05/2019</td>\n",
       "      <td>Kolkata</td>\n",
       "      <td>Banglore</td>\n",
       "      <td>CCU → NAG → BLR</td>\n",
       "      <td>18:05</td>\n",
       "      <td>23:30</td>\n",
       "      <td>5h 25m</td>\n",
       "      <td>1 stop</td>\n",
       "      <td>No info</td>\n",
       "      <td>6218</td>\n",
       "    </tr>\n",
       "    <tr>\n",
       "      <th>4</th>\n",
       "      <td>IndiGo</td>\n",
       "      <td>01/03/2019</td>\n",
       "      <td>Banglore</td>\n",
       "      <td>New Delhi</td>\n",
       "      <td>BLR → NAG → DEL</td>\n",
       "      <td>16:50</td>\n",
       "      <td>21:35</td>\n",
       "      <td>4h 45m</td>\n",
       "      <td>1 stop</td>\n",
       "      <td>No info</td>\n",
       "      <td>13302</td>\n",
       "    </tr>\n",
       "    <tr>\n",
       "      <th>...</th>\n",
       "      <td>...</td>\n",
       "      <td>...</td>\n",
       "      <td>...</td>\n",
       "      <td>...</td>\n",
       "      <td>...</td>\n",
       "      <td>...</td>\n",
       "      <td>...</td>\n",
       "      <td>...</td>\n",
       "      <td>...</td>\n",
       "      <td>...</td>\n",
       "      <td>...</td>\n",
       "    </tr>\n",
       "    <tr>\n",
       "      <th>10678</th>\n",
       "      <td>Air Asia</td>\n",
       "      <td>9/04/2019</td>\n",
       "      <td>Kolkata</td>\n",
       "      <td>Banglore</td>\n",
       "      <td>CCU → BLR</td>\n",
       "      <td>19:55</td>\n",
       "      <td>22:25</td>\n",
       "      <td>2h 30m</td>\n",
       "      <td>non-stop</td>\n",
       "      <td>No info</td>\n",
       "      <td>4107</td>\n",
       "    </tr>\n",
       "    <tr>\n",
       "      <th>10679</th>\n",
       "      <td>Air India</td>\n",
       "      <td>27/04/2019</td>\n",
       "      <td>Kolkata</td>\n",
       "      <td>Banglore</td>\n",
       "      <td>CCU → BLR</td>\n",
       "      <td>20:45</td>\n",
       "      <td>23:20</td>\n",
       "      <td>2h 35m</td>\n",
       "      <td>non-stop</td>\n",
       "      <td>No info</td>\n",
       "      <td>4145</td>\n",
       "    </tr>\n",
       "    <tr>\n",
       "      <th>10680</th>\n",
       "      <td>Jet Airways</td>\n",
       "      <td>27/04/2019</td>\n",
       "      <td>Banglore</td>\n",
       "      <td>Delhi</td>\n",
       "      <td>BLR → DEL</td>\n",
       "      <td>08:20</td>\n",
       "      <td>11:20</td>\n",
       "      <td>3h</td>\n",
       "      <td>non-stop</td>\n",
       "      <td>No info</td>\n",
       "      <td>7229</td>\n",
       "    </tr>\n",
       "    <tr>\n",
       "      <th>10681</th>\n",
       "      <td>Vistara</td>\n",
       "      <td>01/03/2019</td>\n",
       "      <td>Banglore</td>\n",
       "      <td>New Delhi</td>\n",
       "      <td>BLR → DEL</td>\n",
       "      <td>11:30</td>\n",
       "      <td>14:10</td>\n",
       "      <td>2h 40m</td>\n",
       "      <td>non-stop</td>\n",
       "      <td>No info</td>\n",
       "      <td>12648</td>\n",
       "    </tr>\n",
       "    <tr>\n",
       "      <th>10682</th>\n",
       "      <td>Air India</td>\n",
       "      <td>9/05/2019</td>\n",
       "      <td>Delhi</td>\n",
       "      <td>Cochin</td>\n",
       "      <td>DEL → GOI → BOM → COK</td>\n",
       "      <td>10:55</td>\n",
       "      <td>19:15</td>\n",
       "      <td>8h 20m</td>\n",
       "      <td>2 stops</td>\n",
       "      <td>No info</td>\n",
       "      <td>11753</td>\n",
       "    </tr>\n",
       "  </tbody>\n",
       "</table>\n",
       "<p>10683 rows × 11 columns</p>\n",
       "</div>"
      ],
      "text/plain": [
       "           Airline Date_of_Journey    Source Destination  \\\n",
       "0           IndiGo      24/03/2019  Banglore   New Delhi   \n",
       "1        Air India       1/05/2019   Kolkata    Banglore   \n",
       "2      Jet Airways       9/06/2019     Delhi      Cochin   \n",
       "3           IndiGo      12/05/2019   Kolkata    Banglore   \n",
       "4           IndiGo      01/03/2019  Banglore   New Delhi   \n",
       "...            ...             ...       ...         ...   \n",
       "10678     Air Asia       9/04/2019   Kolkata    Banglore   \n",
       "10679    Air India      27/04/2019   Kolkata    Banglore   \n",
       "10680  Jet Airways      27/04/2019  Banglore       Delhi   \n",
       "10681      Vistara      01/03/2019  Banglore   New Delhi   \n",
       "10682    Air India       9/05/2019     Delhi      Cochin   \n",
       "\n",
       "                       Route Dep_Time  Arrival_Time Duration Total_Stops  \\\n",
       "0                  BLR → DEL    22:20  01:10 22 Mar   2h 50m    non-stop   \n",
       "1      CCU → IXR → BBI → BLR    05:50         13:15   7h 25m     2 stops   \n",
       "2      DEL → LKO → BOM → COK    09:25  04:25 10 Jun      19h     2 stops   \n",
       "3            CCU → NAG → BLR    18:05         23:30   5h 25m      1 stop   \n",
       "4            BLR → NAG → DEL    16:50         21:35   4h 45m      1 stop   \n",
       "...                      ...      ...           ...      ...         ...   \n",
       "10678              CCU → BLR    19:55         22:25   2h 30m    non-stop   \n",
       "10679              CCU → BLR    20:45         23:20   2h 35m    non-stop   \n",
       "10680              BLR → DEL    08:20         11:20       3h    non-stop   \n",
       "10681              BLR → DEL    11:30         14:10   2h 40m    non-stop   \n",
       "10682  DEL → GOI → BOM → COK    10:55         19:15   8h 20m     2 stops   \n",
       "\n",
       "      Additional_Info  Price  \n",
       "0             No info   3897  \n",
       "1             No info   7662  \n",
       "2             No info  13882  \n",
       "3             No info   6218  \n",
       "4             No info  13302  \n",
       "...               ...    ...  \n",
       "10678         No info   4107  \n",
       "10679         No info   4145  \n",
       "10680         No info   7229  \n",
       "10681         No info  12648  \n",
       "10682         No info  11753  \n",
       "\n",
       "[10683 rows x 11 columns]"
      ]
     },
     "execution_count": 12,
     "metadata": {},
     "output_type": "execute_result"
    }
   ],
   "source": [
    "flights = get_data(\"flight_price\")\n",
    "flights"
   ]
  },
  {
   "cell_type": "code",
   "execution_count": 13,
   "id": "910cbffa-aa86-41b5-8579-7fe36fc56cb5",
   "metadata": {},
   "outputs": [
    {
     "name": "stdout",
     "output_type": "stream",
     "text": [
      "<class 'pandas.core.frame.DataFrame'>\n",
      "RangeIndex: 10683 entries, 0 to 10682\n",
      "Data columns (total 11 columns):\n",
      " #   Column           Non-Null Count  Dtype \n",
      "---  ------           --------------  ----- \n",
      " 0   Airline          10683 non-null  object\n",
      " 1   Date_of_Journey  10683 non-null  object\n",
      " 2   Source           10683 non-null  object\n",
      " 3   Destination      10683 non-null  object\n",
      " 4   Route            10682 non-null  object\n",
      " 5   Dep_Time         10683 non-null  object\n",
      " 6   Arrival_Time     10683 non-null  object\n",
      " 7   Duration         10683 non-null  object\n",
      " 8   Total_Stops      10682 non-null  object\n",
      " 9   Additional_Info  10683 non-null  object\n",
      " 10  Price            10683 non-null  int64 \n",
      "dtypes: int64(1), object(10)\n",
      "memory usage: 918.2+ KB\n"
     ]
    }
   ],
   "source": [
    "flights.info()"
   ]
  },
  {
   "cell_type": "markdown",
   "id": "9e3eb56d-7c19-4d12-a97a-80deb0949d82",
   "metadata": {},
   "source": [
    "- The dataset contains 10,683 rows and 11 features.\n",
    "- Columns `Route` and `Total_Stops` have missing values each.\n",
    "- The data types of some features aren't appropriate."
   ]
  },
  {
   "cell_type": "markdown",
   "id": "5003efa3-1ce9-470e-b005-9a301520805b",
   "metadata": {},
   "source": [
    "## 3. Preliminary analysis"
   ]
  },
  {
   "cell_type": "markdown",
   "id": "7d51d3c7-a601-4d39-b29b-2518b68301b3",
   "metadata": {},
   "source": [
    "### 3.1 Check Data Types"
   ]
  },
  {
   "cell_type": "code",
   "execution_count": 14,
   "id": "912b365e-b87f-4f87-ba15-6446de140f22",
   "metadata": {},
   "outputs": [
    {
     "data": {
      "text/html": [
       "<div>\n",
       "<style scoped>\n",
       "    .dataframe tbody tr th:only-of-type {\n",
       "        vertical-align: middle;\n",
       "    }\n",
       "\n",
       "    .dataframe tbody tr th {\n",
       "        vertical-align: top;\n",
       "    }\n",
       "\n",
       "    .dataframe thead th {\n",
       "        text-align: right;\n",
       "    }\n",
       "</style>\n",
       "<table border=\"1\" class=\"dataframe\">\n",
       "  <thead>\n",
       "    <tr style=\"text-align: right;\">\n",
       "      <th></th>\n",
       "      <th>Airline</th>\n",
       "      <th>Date_of_Journey</th>\n",
       "      <th>Source</th>\n",
       "      <th>Destination</th>\n",
       "      <th>Route</th>\n",
       "      <th>Dep_Time</th>\n",
       "      <th>Arrival_Time</th>\n",
       "      <th>Duration</th>\n",
       "      <th>Total_Stops</th>\n",
       "      <th>Additional_Info</th>\n",
       "      <th>Price</th>\n",
       "    </tr>\n",
       "  </thead>\n",
       "  <tbody>\n",
       "    <tr>\n",
       "      <th>0</th>\n",
       "      <td>IndiGo</td>\n",
       "      <td>24/03/2019</td>\n",
       "      <td>Banglore</td>\n",
       "      <td>New Delhi</td>\n",
       "      <td>BLR → DEL</td>\n",
       "      <td>22:20</td>\n",
       "      <td>01:10 22 Mar</td>\n",
       "      <td>2h 50m</td>\n",
       "      <td>non-stop</td>\n",
       "      <td>No info</td>\n",
       "      <td>3897</td>\n",
       "    </tr>\n",
       "    <tr>\n",
       "      <th>1</th>\n",
       "      <td>Air India</td>\n",
       "      <td>1/05/2019</td>\n",
       "      <td>Kolkata</td>\n",
       "      <td>Banglore</td>\n",
       "      <td>CCU → IXR → BBI → BLR</td>\n",
       "      <td>05:50</td>\n",
       "      <td>13:15</td>\n",
       "      <td>7h 25m</td>\n",
       "      <td>2 stops</td>\n",
       "      <td>No info</td>\n",
       "      <td>7662</td>\n",
       "    </tr>\n",
       "    <tr>\n",
       "      <th>2</th>\n",
       "      <td>Jet Airways</td>\n",
       "      <td>9/06/2019</td>\n",
       "      <td>Delhi</td>\n",
       "      <td>Cochin</td>\n",
       "      <td>DEL → LKO → BOM → COK</td>\n",
       "      <td>09:25</td>\n",
       "      <td>04:25 10 Jun</td>\n",
       "      <td>19h</td>\n",
       "      <td>2 stops</td>\n",
       "      <td>No info</td>\n",
       "      <td>13882</td>\n",
       "    </tr>\n",
       "    <tr>\n",
       "      <th>3</th>\n",
       "      <td>IndiGo</td>\n",
       "      <td>12/05/2019</td>\n",
       "      <td>Kolkata</td>\n",
       "      <td>Banglore</td>\n",
       "      <td>CCU → NAG → BLR</td>\n",
       "      <td>18:05</td>\n",
       "      <td>23:30</td>\n",
       "      <td>5h 25m</td>\n",
       "      <td>1 stop</td>\n",
       "      <td>No info</td>\n",
       "      <td>6218</td>\n",
       "    </tr>\n",
       "    <tr>\n",
       "      <th>4</th>\n",
       "      <td>IndiGo</td>\n",
       "      <td>01/03/2019</td>\n",
       "      <td>Banglore</td>\n",
       "      <td>New Delhi</td>\n",
       "      <td>BLR → NAG → DEL</td>\n",
       "      <td>16:50</td>\n",
       "      <td>21:35</td>\n",
       "      <td>4h 45m</td>\n",
       "      <td>1 stop</td>\n",
       "      <td>No info</td>\n",
       "      <td>13302</td>\n",
       "    </tr>\n",
       "  </tbody>\n",
       "</table>\n",
       "</div>"
      ],
      "text/plain": [
       "       Airline Date_of_Journey    Source Destination                  Route  \\\n",
       "0       IndiGo      24/03/2019  Banglore   New Delhi              BLR → DEL   \n",
       "1    Air India       1/05/2019   Kolkata    Banglore  CCU → IXR → BBI → BLR   \n",
       "2  Jet Airways       9/06/2019     Delhi      Cochin  DEL → LKO → BOM → COK   \n",
       "3       IndiGo      12/05/2019   Kolkata    Banglore        CCU → NAG → BLR   \n",
       "4       IndiGo      01/03/2019  Banglore   New Delhi        BLR → NAG → DEL   \n",
       "\n",
       "  Dep_Time  Arrival_Time Duration Total_Stops Additional_Info  Price  \n",
       "0    22:20  01:10 22 Mar   2h 50m    non-stop         No info   3897  \n",
       "1    05:50         13:15   7h 25m     2 stops         No info   7662  \n",
       "2    09:25  04:25 10 Jun      19h     2 stops         No info  13882  \n",
       "3    18:05         23:30   5h 25m      1 stop         No info   6218  \n",
       "4    16:50         21:35   4h 45m      1 stop         No info  13302  "
      ]
     },
     "execution_count": 14,
     "metadata": {},
     "output_type": "execute_result"
    }
   ],
   "source": [
    "flights.head()"
   ]
  },
  {
   "cell_type": "code",
   "execution_count": 15,
   "id": "ea67f8e2-d2cc-4f35-b97e-dd6f6b2b2a72",
   "metadata": {},
   "outputs": [
    {
     "data": {
      "text/plain": [
       "Airline            object\n",
       "Date_of_Journey    object\n",
       "Source             object\n",
       "Destination        object\n",
       "Route              object\n",
       "Dep_Time           object\n",
       "Arrival_Time       object\n",
       "Duration           object\n",
       "Total_Stops        object\n",
       "Additional_Info    object\n",
       "Price               int64\n",
       "dtype: object"
      ]
     },
     "execution_count": 15,
     "metadata": {},
     "output_type": "execute_result"
    }
   ],
   "source": [
    "flights.dtypes"
   ]
  },
  {
   "cell_type": "code",
   "execution_count": 16,
   "id": "916a869b-8322-40c5-bf1f-60b41106393b",
   "metadata": {},
   "outputs": [
    {
     "data": {
      "text/plain": [
       "'12/03/2019'"
      ]
     },
     "execution_count": 16,
     "metadata": {},
     "output_type": "execute_result"
    }
   ],
   "source": [
    "value = flights.Date_of_Journey.iloc[6]\n",
    "value"
   ]
  },
  {
   "cell_type": "code",
   "execution_count": 17,
   "id": "70f019eb-3604-4aff-b3b6-ed1f4bde1575",
   "metadata": {},
   "outputs": [
    {
     "data": {
      "text/plain": [
       "'18:55'"
      ]
     },
     "execution_count": 17,
     "metadata": {},
     "output_type": "execute_result"
    }
   ],
   "source": [
    "value = flights.Dep_Time.iloc[6]\n",
    "value"
   ]
  },
  {
   "cell_type": "markdown",
   "id": "7fa655b6-8ef4-41ee-8176-ff832e7a2f60",
   "metadata": {},
   "source": [
    "### 3.2 Check for Duplicates"
   ]
  },
  {
   "cell_type": "code",
   "execution_count": 18,
   "id": "123fa2a1-d771-432b-88a8-d8f02070d8c5",
   "metadata": {},
   "outputs": [
    {
     "data": {
      "text/plain": [
       "np.int64(220)"
      ]
     },
     "execution_count": 18,
     "metadata": {},
     "output_type": "execute_result"
    }
   ],
   "source": [
    "flights.duplicated().sum()"
   ]
  },
  {
   "cell_type": "code",
   "execution_count": 19,
   "id": "2665a6b2-7807-40b9-8d6d-70965de527de",
   "metadata": {},
   "outputs": [
    {
     "data": {
      "text/html": [
       "<div>\n",
       "<style scoped>\n",
       "    .dataframe tbody tr th:only-of-type {\n",
       "        vertical-align: middle;\n",
       "    }\n",
       "\n",
       "    .dataframe tbody tr th {\n",
       "        vertical-align: top;\n",
       "    }\n",
       "\n",
       "    .dataframe thead th {\n",
       "        text-align: right;\n",
       "    }\n",
       "</style>\n",
       "<table border=\"1\" class=\"dataframe\">\n",
       "  <thead>\n",
       "    <tr style=\"text-align: right;\">\n",
       "      <th></th>\n",
       "      <th>Airline</th>\n",
       "      <th>Date_of_Journey</th>\n",
       "      <th>Source</th>\n",
       "      <th>Destination</th>\n",
       "      <th>Route</th>\n",
       "      <th>Dep_Time</th>\n",
       "      <th>Arrival_Time</th>\n",
       "      <th>Duration</th>\n",
       "      <th>Total_Stops</th>\n",
       "      <th>Additional_Info</th>\n",
       "      <th>Price</th>\n",
       "    </tr>\n",
       "  </thead>\n",
       "  <tbody>\n",
       "    <tr>\n",
       "      <th>6321</th>\n",
       "      <td>Air India</td>\n",
       "      <td>01/03/2019</td>\n",
       "      <td>Banglore</td>\n",
       "      <td>New Delhi</td>\n",
       "      <td>BLR → BOM → AMD → DEL</td>\n",
       "      <td>08:50</td>\n",
       "      <td>23:55 02 Mar</td>\n",
       "      <td>39h 5m</td>\n",
       "      <td>2 stops</td>\n",
       "      <td>No info</td>\n",
       "      <td>17135</td>\n",
       "    </tr>\n",
       "    <tr>\n",
       "      <th>9848</th>\n",
       "      <td>Air India</td>\n",
       "      <td>01/03/2019</td>\n",
       "      <td>Banglore</td>\n",
       "      <td>New Delhi</td>\n",
       "      <td>BLR → BOM → AMD → DEL</td>\n",
       "      <td>08:50</td>\n",
       "      <td>23:55 02 Mar</td>\n",
       "      <td>39h 5m</td>\n",
       "      <td>2 stops</td>\n",
       "      <td>No info</td>\n",
       "      <td>17135</td>\n",
       "    </tr>\n",
       "    <tr>\n",
       "      <th>572</th>\n",
       "      <td>Air India</td>\n",
       "      <td>03/03/2019</td>\n",
       "      <td>Banglore</td>\n",
       "      <td>New Delhi</td>\n",
       "      <td>BLR → DEL</td>\n",
       "      <td>21:10</td>\n",
       "      <td>23:55</td>\n",
       "      <td>2h 45m</td>\n",
       "      <td>non-stop</td>\n",
       "      <td>No info</td>\n",
       "      <td>7591</td>\n",
       "    </tr>\n",
       "    <tr>\n",
       "      <th>8168</th>\n",
       "      <td>Air India</td>\n",
       "      <td>03/03/2019</td>\n",
       "      <td>Banglore</td>\n",
       "      <td>New Delhi</td>\n",
       "      <td>BLR → DEL</td>\n",
       "      <td>21:10</td>\n",
       "      <td>23:55</td>\n",
       "      <td>2h 45m</td>\n",
       "      <td>non-stop</td>\n",
       "      <td>No info</td>\n",
       "      <td>7591</td>\n",
       "    </tr>\n",
       "    <tr>\n",
       "      <th>1495</th>\n",
       "      <td>Air India</td>\n",
       "      <td>1/04/2019</td>\n",
       "      <td>Kolkata</td>\n",
       "      <td>Banglore</td>\n",
       "      <td>CCU → DEL → COK → BLR</td>\n",
       "      <td>10:00</td>\n",
       "      <td>01:20 02 Apr</td>\n",
       "      <td>15h 20m</td>\n",
       "      <td>2 stops</td>\n",
       "      <td>No info</td>\n",
       "      <td>10408</td>\n",
       "    </tr>\n",
       "    <tr>\n",
       "      <th>...</th>\n",
       "      <td>...</td>\n",
       "      <td>...</td>\n",
       "      <td>...</td>\n",
       "      <td>...</td>\n",
       "      <td>...</td>\n",
       "      <td>...</td>\n",
       "      <td>...</td>\n",
       "      <td>...</td>\n",
       "      <td>...</td>\n",
       "      <td>...</td>\n",
       "      <td>...</td>\n",
       "    </tr>\n",
       "    <tr>\n",
       "      <th>2692</th>\n",
       "      <td>SpiceJet</td>\n",
       "      <td>24/03/2019</td>\n",
       "      <td>Banglore</td>\n",
       "      <td>New Delhi</td>\n",
       "      <td>BLR → DEL</td>\n",
       "      <td>05:45</td>\n",
       "      <td>08:35</td>\n",
       "      <td>2h 50m</td>\n",
       "      <td>non-stop</td>\n",
       "      <td>No check-in baggage included</td>\n",
       "      <td>4273</td>\n",
       "    </tr>\n",
       "    <tr>\n",
       "      <th>2870</th>\n",
       "      <td>SpiceJet</td>\n",
       "      <td>24/03/2019</td>\n",
       "      <td>Banglore</td>\n",
       "      <td>New Delhi</td>\n",
       "      <td>BLR → DEL</td>\n",
       "      <td>05:45</td>\n",
       "      <td>08:35</td>\n",
       "      <td>2h 50m</td>\n",
       "      <td>non-stop</td>\n",
       "      <td>No check-in baggage included</td>\n",
       "      <td>4273</td>\n",
       "    </tr>\n",
       "    <tr>\n",
       "      <th>3711</th>\n",
       "      <td>SpiceJet</td>\n",
       "      <td>24/03/2019</td>\n",
       "      <td>Banglore</td>\n",
       "      <td>New Delhi</td>\n",
       "      <td>BLR → DEL</td>\n",
       "      <td>20:30</td>\n",
       "      <td>23:20</td>\n",
       "      <td>2h 50m</td>\n",
       "      <td>non-stop</td>\n",
       "      <td>No check-in baggage included</td>\n",
       "      <td>3873</td>\n",
       "    </tr>\n",
       "    <tr>\n",
       "      <th>2634</th>\n",
       "      <td>Vistara</td>\n",
       "      <td>24/03/2019</td>\n",
       "      <td>Banglore</td>\n",
       "      <td>New Delhi</td>\n",
       "      <td>BLR → DEL</td>\n",
       "      <td>11:30</td>\n",
       "      <td>14:10</td>\n",
       "      <td>2h 40m</td>\n",
       "      <td>non-stop</td>\n",
       "      <td>No info</td>\n",
       "      <td>5403</td>\n",
       "    </tr>\n",
       "    <tr>\n",
       "      <th>5470</th>\n",
       "      <td>Vistara</td>\n",
       "      <td>24/03/2019</td>\n",
       "      <td>Banglore</td>\n",
       "      <td>New Delhi</td>\n",
       "      <td>BLR → DEL</td>\n",
       "      <td>11:30</td>\n",
       "      <td>14:10</td>\n",
       "      <td>2h 40m</td>\n",
       "      <td>non-stop</td>\n",
       "      <td>No info</td>\n",
       "      <td>5403</td>\n",
       "    </tr>\n",
       "  </tbody>\n",
       "</table>\n",
       "<p>415 rows × 11 columns</p>\n",
       "</div>"
      ],
      "text/plain": [
       "        Airline Date_of_Journey    Source Destination                  Route  \\\n",
       "6321  Air India      01/03/2019  Banglore   New Delhi  BLR → BOM → AMD → DEL   \n",
       "9848  Air India      01/03/2019  Banglore   New Delhi  BLR → BOM → AMD → DEL   \n",
       "572   Air India      03/03/2019  Banglore   New Delhi              BLR → DEL   \n",
       "8168  Air India      03/03/2019  Banglore   New Delhi              BLR → DEL   \n",
       "1495  Air India       1/04/2019   Kolkata    Banglore  CCU → DEL → COK → BLR   \n",
       "...         ...             ...       ...         ...                    ...   \n",
       "2692   SpiceJet      24/03/2019  Banglore   New Delhi              BLR → DEL   \n",
       "2870   SpiceJet      24/03/2019  Banglore   New Delhi              BLR → DEL   \n",
       "3711   SpiceJet      24/03/2019  Banglore   New Delhi              BLR → DEL   \n",
       "2634    Vistara      24/03/2019  Banglore   New Delhi              BLR → DEL   \n",
       "5470    Vistara      24/03/2019  Banglore   New Delhi              BLR → DEL   \n",
       "\n",
       "     Dep_Time  Arrival_Time Duration Total_Stops  \\\n",
       "6321    08:50  23:55 02 Mar   39h 5m     2 stops   \n",
       "9848    08:50  23:55 02 Mar   39h 5m     2 stops   \n",
       "572     21:10         23:55   2h 45m    non-stop   \n",
       "8168    21:10         23:55   2h 45m    non-stop   \n",
       "1495    10:00  01:20 02 Apr  15h 20m     2 stops   \n",
       "...       ...           ...      ...         ...   \n",
       "2692    05:45         08:35   2h 50m    non-stop   \n",
       "2870    05:45         08:35   2h 50m    non-stop   \n",
       "3711    20:30         23:20   2h 50m    non-stop   \n",
       "2634    11:30         14:10   2h 40m    non-stop   \n",
       "5470    11:30         14:10   2h 40m    non-stop   \n",
       "\n",
       "                   Additional_Info  Price  \n",
       "6321                       No info  17135  \n",
       "9848                       No info  17135  \n",
       "572                        No info   7591  \n",
       "8168                       No info   7591  \n",
       "1495                       No info  10408  \n",
       "...                            ...    ...  \n",
       "2692  No check-in baggage included   4273  \n",
       "2870  No check-in baggage included   4273  \n",
       "3711  No check-in baggage included   3873  \n",
       "2634                       No info   5403  \n",
       "5470                       No info   5403  \n",
       "\n",
       "[415 rows x 11 columns]"
      ]
     },
     "execution_count": 19,
     "metadata": {},
     "output_type": "execute_result"
    }
   ],
   "source": [
    "(\n",
    "\tflights\n",
    "\t.loc[flights.duplicated(keep=False)]\n",
    "\t.sort_values([\"Airline\", \"Date_of_Journey\", \"Source\", \"Destination\"])\n",
    ")"
   ]
  },
  {
   "cell_type": "markdown",
   "id": "011f3cea-e4d1-431f-83ce-9c156f712f4e",
   "metadata": {},
   "source": [
    "### 3.3 Observations"
   ]
  },
  {
   "cell_type": "markdown",
   "id": "f669b45e-c57c-41b4-9459-b3da37daa1da",
   "metadata": {},
   "source": [
    "- The type of `Date_of_Journey`, `Dep_Time`, and `Arrival_Time` should be changed to datetime.\n",
    "- The type of `Duration` and `Total_Stops` is mixed. It should be a numeric type.\n",
    "- There are 220 duplicates. These should be removed."
   ]
  },
  {
   "cell_type": "markdown",
   "id": "78bdff19-a721-4416-871a-393c6304195b",
   "metadata": {},
   "source": [
    "## 4. Detailed Analysis"
   ]
  },
  {
   "cell_type": "markdown",
   "id": "9545275c-fbed-41b7-b55d-e590079604d1",
   "metadata": {},
   "source": [
    "### Airline"
   ]
  },
  {
   "cell_type": "code",
   "execution_count": 20,
   "id": "214a37a1-d686-4f6f-9433-f94bf1fe3fb9",
   "metadata": {},
   "outputs": [
    {
     "data": {
      "text/plain": [
       "0             IndiGo\n",
       "1          Air India\n",
       "2        Jet Airways\n",
       "3             IndiGo\n",
       "4             IndiGo\n",
       "            ...     \n",
       "10678       Air Asia\n",
       "10679      Air India\n",
       "10680    Jet Airways\n",
       "10681        Vistara\n",
       "10682      Air India\n",
       "Name: Airline, Length: 10683, dtype: object"
      ]
     },
     "execution_count": 20,
     "metadata": {},
     "output_type": "execute_result"
    }
   ],
   "source": [
    "flights.Airline"
   ]
  },
  {
   "cell_type": "code",
   "execution_count": 21,
   "id": "04d9408e-ac8a-420d-a7b2-9df4bd2784a7",
   "metadata": {},
   "outputs": [
    {
     "data": {
      "text/plain": [
       "array(['IndiGo', 'Air India', 'Jet Airways', 'SpiceJet',\n",
       "       'Multiple carriers', 'GoAir', 'Vistara', 'Air Asia',\n",
       "       'Vistara Premium economy', 'Jet Airways Business',\n",
       "       'Multiple carriers Premium economy', 'Trujet'], dtype=object)"
      ]
     },
     "execution_count": 21,
     "metadata": {},
     "output_type": "execute_result"
    }
   ],
   "source": [
    "flights.Airline.unique()"
   ]
  },
  {
   "cell_type": "code",
   "execution_count": 22,
   "id": "f1c5e5eb-1a7b-45a4-9b06-6044b9de5743",
   "metadata": {},
   "outputs": [
    {
     "data": {
      "text/plain": [
       "0             Indigo\n",
       "1          Air India\n",
       "2        Jet Airways\n",
       "3             Indigo\n",
       "4             Indigo\n",
       "            ...     \n",
       "10678       Air Asia\n",
       "10679      Air India\n",
       "10680    Jet Airways\n",
       "10681        Vistara\n",
       "10682      Air India\n",
       "Name: Airline, Length: 10683, dtype: object"
      ]
     },
     "execution_count": 22,
     "metadata": {},
     "output_type": "execute_result"
    }
   ],
   "source": [
    "(\n",
    "\tflights\n",
    "\t.Airline\n",
    "\t.str.replace(\" Premium economy\", \"\")\n",
    "\t.str.replace(\" Business\", \"\")\n",
    "\t.str.title()\n",
    ")"
   ]
  },
  {
   "cell_type": "markdown",
   "id": "8c6a20c5-53af-4451-b002-78cd6ef799c4",
   "metadata": {},
   "source": [
    "- Some of the entries have inconsistent/inaccurate values"
   ]
  },
  {
   "cell_type": "markdown",
   "id": "9949e5c2-4343-4b9c-9151-87e9af53131e",
   "metadata": {},
   "source": [
    "### Date_of_Journey"
   ]
  },
  {
   "cell_type": "code",
   "execution_count": 23,
   "id": "df331a1b-2042-483a-98a4-c11625a635b6",
   "metadata": {},
   "outputs": [
    {
     "data": {
      "text/plain": [
       "0        24/03/2019\n",
       "1         1/05/2019\n",
       "2         9/06/2019\n",
       "3        12/05/2019\n",
       "4        01/03/2019\n",
       "            ...    \n",
       "10678     9/04/2019\n",
       "10679    27/04/2019\n",
       "10680    27/04/2019\n",
       "10681    01/03/2019\n",
       "10682     9/05/2019\n",
       "Name: Date_of_Journey, Length: 10683, dtype: object"
      ]
     },
     "execution_count": 23,
     "metadata": {},
     "output_type": "execute_result"
    }
   ],
   "source": [
    "flights.Date_of_Journey"
   ]
  },
  {
   "cell_type": "code",
   "execution_count": 24,
   "id": "1a90f36b-52a3-48ed-a501-17798df23f2e",
   "metadata": {},
   "outputs": [
    {
     "data": {
      "text/plain": [
       "0       2019-03-24\n",
       "1       2019-05-01\n",
       "2       2019-06-09\n",
       "3       2019-05-12\n",
       "4       2019-03-01\n",
       "           ...    \n",
       "10678   2019-04-09\n",
       "10679   2019-04-27\n",
       "10680   2019-04-27\n",
       "10681   2019-03-01\n",
       "10682   2019-05-09\n",
       "Name: Date_of_Journey, Length: 10683, dtype: datetime64[ns]"
      ]
     },
     "execution_count": 24,
     "metadata": {},
     "output_type": "execute_result"
    }
   ],
   "source": [
    "pd.to_datetime(flights.Date_of_Journey, dayfirst=True)"
   ]
  },
  {
   "cell_type": "markdown",
   "id": "769ed083-afc0-4a62-a197-03fa60a52752",
   "metadata": {},
   "source": [
    "### Source"
   ]
  },
  {
   "cell_type": "code",
   "execution_count": 25,
   "id": "1f06ec87-74c2-4883-89da-8f98cb668215",
   "metadata": {},
   "outputs": [
    {
     "data": {
      "text/plain": [
       "array(['Banglore', 'Kolkata', 'Delhi', 'Chennai', 'Mumbai'], dtype=object)"
      ]
     },
     "execution_count": 25,
     "metadata": {},
     "output_type": "execute_result"
    }
   ],
   "source": [
    "flights.Source.unique()"
   ]
  },
  {
   "cell_type": "markdown",
   "id": "0d08bffb-f512-45db-80f6-cbefc979d3c4",
   "metadata": {},
   "source": [
    "### Destination"
   ]
  },
  {
   "cell_type": "code",
   "execution_count": 26,
   "id": "f36bd952-8e13-4579-9380-e9eac539a5c5",
   "metadata": {},
   "outputs": [
    {
     "data": {
      "text/plain": [
       "array(['New Delhi', 'Banglore', 'Cochin', 'Kolkata', 'Delhi', 'Hyderabad'],\n",
       "      dtype=object)"
      ]
     },
     "execution_count": 26,
     "metadata": {},
     "output_type": "execute_result"
    }
   ],
   "source": [
    "flights.Destination.unique()"
   ]
  },
  {
   "cell_type": "markdown",
   "id": "005c9e43-f540-4078-8db1-71b0311060d0",
   "metadata": {},
   "source": [
    "### Dep_time"
   ]
  },
  {
   "cell_type": "code",
   "execution_count": 27,
   "id": "59f63394-0762-455a-81d5-63a06aa47cba",
   "metadata": {},
   "outputs": [
    {
     "data": {
      "text/plain": [
       "0        22:20\n",
       "1        05:50\n",
       "2        09:25\n",
       "3        18:05\n",
       "4        16:50\n",
       "         ...  \n",
       "10678    19:55\n",
       "10679    20:45\n",
       "10680    08:20\n",
       "10681    11:30\n",
       "10682    10:55\n",
       "Name: Dep_Time, Length: 10683, dtype: object"
      ]
     },
     "execution_count": 27,
     "metadata": {},
     "output_type": "execute_result"
    }
   ],
   "source": [
    "flights.Dep_Time"
   ]
  },
  {
   "cell_type": "code",
   "execution_count": 28,
   "id": "db7b7954-1b79-4cb7-898c-9874344804c3",
   "metadata": {},
   "outputs": [
    {
     "data": {
      "text/plain": [
       "Series([], Name: Dep_Time, dtype: object)"
      ]
     },
     "execution_count": 28,
     "metadata": {},
     "output_type": "execute_result"
    }
   ],
   "source": [
    "(\n",
    "\tflights\n",
    "\t.Dep_Time\n",
    "\t.loc[lambda ser: ser.str.contains(\"[^0-9:]\")]\n",
    ")"
   ]
  },
  {
   "cell_type": "code",
   "execution_count": 29,
   "id": "2787725c-3010-4526-93ec-5fb16b841406",
   "metadata": {},
   "outputs": [
    {
     "name": "stderr",
     "output_type": "stream",
     "text": [
      "C:\\Users\\saumya\\AppData\\Local\\Temp\\ipykernel_24784\\1056054517.py:1: UserWarning: Could not infer format, so each element will be parsed individually, falling back to `dateutil`. To ensure parsing is consistent and as-expected, please specify a format.\n",
      "  pd.to_datetime(flights.Dep_Time).dt.time\n"
     ]
    },
    {
     "data": {
      "text/plain": [
       "0        22:20:00\n",
       "1        05:50:00\n",
       "2        09:25:00\n",
       "3        18:05:00\n",
       "4        16:50:00\n",
       "           ...   \n",
       "10678    19:55:00\n",
       "10679    20:45:00\n",
       "10680    08:20:00\n",
       "10681    11:30:00\n",
       "10682    10:55:00\n",
       "Name: Dep_Time, Length: 10683, dtype: object"
      ]
     },
     "execution_count": 29,
     "metadata": {},
     "output_type": "execute_result"
    }
   ],
   "source": [
    "pd.to_datetime(flights.Dep_Time).dt.time"
   ]
  },
  {
   "cell_type": "markdown",
   "id": "b996789d-f077-4117-aad6-c268e9c350bb",
   "metadata": {},
   "source": [
    "### Arrival_Time"
   ]
  },
  {
   "cell_type": "code",
   "execution_count": 30,
   "id": "98771af0-faec-478b-95ad-f8e2349a9557",
   "metadata": {},
   "outputs": [
    {
     "data": {
      "text/plain": [
       "0        01:10 22 Mar\n",
       "1               13:15\n",
       "2        04:25 10 Jun\n",
       "3               23:30\n",
       "4               21:35\n",
       "             ...     \n",
       "10678           22:25\n",
       "10679           23:20\n",
       "10680           11:20\n",
       "10681           14:10\n",
       "10682           19:15\n",
       "Name: Arrival_Time, Length: 10683, dtype: object"
      ]
     },
     "execution_count": 30,
     "metadata": {},
     "output_type": "execute_result"
    }
   ],
   "source": [
    "flights.Arrival_Time"
   ]
  },
  {
   "cell_type": "code",
   "execution_count": 31,
   "id": "ad57c39d-0e46-4801-97a2-f89a0396a13d",
   "metadata": {},
   "outputs": [
    {
     "data": {
      "text/plain": [
       "array(['22 Mar', '10 Jun', '13 Mar', '02 Mar', '10 May', '04 Mar',\n",
       "       '13 Jun', '28 May', '19 Mar', '07 May', '02 Jun', '16 Jun',\n",
       "       '19 May', '16 May', '28 Jun', '02 May', '28 Mar', '19 Jun',\n",
       "       '04 Apr', '25 Mar', '07 Mar', '25 Jun', '07 Jun', '25 May',\n",
       "       '13 May', '16 Mar', '22 May', '10 Apr', '04 Jun', '20 May',\n",
       "       '28 Apr', '25 Apr', '10 Mar', '19 Apr', '13 Apr', '02 Apr',\n",
       "       '23 Mar', '22 Apr', '11 May', '07 Apr', '03 May', '08 Mar',\n",
       "       '03 Mar', '05 Mar', '22 Jun', '04 May', '26 May', '16 Apr',\n",
       "       '26 Jun', '29 May', '29 Jun', '29 Mar', '23 May', '17 Jun'],\n",
       "      dtype=object)"
      ]
     },
     "execution_count": 31,
     "metadata": {},
     "output_type": "execute_result"
    }
   ],
   "source": [
    "(\n",
    "\tflights\n",
    "\t.Arrival_Time\n",
    "\t.loc[lambda ser: ser.str.contains(\"[^0-9:]\")]\n",
    "\t.str.split(\" \", n=1)\n",
    "\t.str.get(1)\n",
    "\t.unique()\n",
    ")"
   ]
  },
  {
   "cell_type": "markdown",
   "id": "62b6f05a-8a82-47e8-bee0-727a18937a52",
   "metadata": {},
   "source": [
    "### Duration"
   ]
  },
  {
   "cell_type": "code",
   "execution_count": 32,
   "id": "bcbe6fc6-e334-4231-8b72-4f32f9ca257a",
   "metadata": {},
   "outputs": [
    {
     "data": {
      "text/plain": [
       "0        2h 50m\n",
       "1        7h 25m\n",
       "2           19h\n",
       "3        5h 25m\n",
       "4        4h 45m\n",
       "          ...  \n",
       "10678    2h 30m\n",
       "10679    2h 35m\n",
       "10680        3h\n",
       "10681    2h 40m\n",
       "10682    8h 20m\n",
       "Name: Duration, Length: 10683, dtype: object"
      ]
     },
     "execution_count": 32,
     "metadata": {},
     "output_type": "execute_result"
    }
   ],
   "source": [
    "flights.Duration"
   ]
  },
  {
   "cell_type": "code",
   "execution_count": 33,
   "id": "4daea2f9-9ae7-4b2e-8167-591be59c6189",
   "metadata": {},
   "outputs": [
    {
     "data": {
      "text/plain": [
       "array(['19h', '23h', '22h', '12h', '3h', '5h', '10h', '18h', '24h', '15h',\n",
       "       '16h', '8h', '14h', '20h', '13h', '11h', '9h', '27h', '26h', '4h',\n",
       "       '7h', '30h', '21h', '28h', '47h', '6h', '25h', '38h', '34h'],\n",
       "      dtype=object)"
      ]
     },
     "execution_count": 33,
     "metadata": {},
     "output_type": "execute_result"
    }
   ],
   "source": [
    "(\n",
    "\tflights\n",
    "\t.Duration\n",
    "\t.loc[lambda ser: ~ser.str.contains(\"m\")]\n",
    "\t.unique()\n",
    ")"
   ]
  },
  {
   "cell_type": "code",
   "execution_count": 34,
   "id": "d1600a5e-3fe8-4034-916a-d2f08c3c1714",
   "metadata": {},
   "outputs": [
    {
     "data": {
      "text/plain": [
       "6474    5m\n",
       "Name: Duration, dtype: object"
      ]
     },
     "execution_count": 34,
     "metadata": {},
     "output_type": "execute_result"
    }
   ],
   "source": [
    "(\n",
    "\tflights\n",
    "\t.Duration\n",
    "\t.loc[lambda ser: ~ser.str.contains(\"h\")]\n",
    "\t# .unique()\n",
    ")"
   ]
  },
  {
   "cell_type": "code",
   "execution_count": 35,
   "id": "16a5a6ec-f7fd-41a9-937f-6f066779d32b",
   "metadata": {},
   "outputs": [
    {
     "data": {
      "text/html": [
       "<div>\n",
       "<style scoped>\n",
       "    .dataframe tbody tr th:only-of-type {\n",
       "        vertical-align: middle;\n",
       "    }\n",
       "\n",
       "    .dataframe tbody tr th {\n",
       "        vertical-align: top;\n",
       "    }\n",
       "\n",
       "    .dataframe thead th {\n",
       "        text-align: right;\n",
       "    }\n",
       "</style>\n",
       "<table border=\"1\" class=\"dataframe\">\n",
       "  <thead>\n",
       "    <tr style=\"text-align: right;\">\n",
       "      <th></th>\n",
       "      <th>Airline</th>\n",
       "      <th>Date_of_Journey</th>\n",
       "      <th>Source</th>\n",
       "      <th>Destination</th>\n",
       "      <th>Route</th>\n",
       "      <th>Dep_Time</th>\n",
       "      <th>Arrival_Time</th>\n",
       "      <th>Duration</th>\n",
       "      <th>Total_Stops</th>\n",
       "      <th>Additional_Info</th>\n",
       "      <th>Price</th>\n",
       "    </tr>\n",
       "  </thead>\n",
       "  <tbody>\n",
       "    <tr>\n",
       "      <th>6474</th>\n",
       "      <td>Air India</td>\n",
       "      <td>6/03/2019</td>\n",
       "      <td>Mumbai</td>\n",
       "      <td>Hyderabad</td>\n",
       "      <td>BOM → GOI → PNQ → HYD</td>\n",
       "      <td>16:50</td>\n",
       "      <td>16:55</td>\n",
       "      <td>5m</td>\n",
       "      <td>2 stops</td>\n",
       "      <td>No info</td>\n",
       "      <td>17327</td>\n",
       "    </tr>\n",
       "  </tbody>\n",
       "</table>\n",
       "</div>"
      ],
      "text/plain": [
       "        Airline Date_of_Journey  Source Destination                  Route  \\\n",
       "6474  Air India       6/03/2019  Mumbai   Hyderabad  BOM → GOI → PNQ → HYD   \n",
       "\n",
       "     Dep_Time Arrival_Time Duration Total_Stops Additional_Info  Price  \n",
       "6474    16:50        16:55       5m     2 stops         No info  17327  "
      ]
     },
     "execution_count": 35,
     "metadata": {},
     "output_type": "execute_result"
    }
   ],
   "source": [
    "flights.iloc[[6474]]"
   ]
  },
  {
   "cell_type": "markdown",
   "id": "3b4aeada-0985-4df0-9765-a7c38924ffb8",
   "metadata": {},
   "source": [
    "- The observation indexed 6474 has duration of 5 minutes. This is clearly wrong. Will delete this observation."
   ]
  },
  {
   "cell_type": "code",
   "execution_count": 36,
   "id": "d6d679d9-bd48-4a5e-b5ca-8816c34e1e37",
   "metadata": {},
   "outputs": [
    {
     "data": {
      "text/plain": [
       "0         170\n",
       "1         445\n",
       "2        1140\n",
       "3         325\n",
       "4         285\n",
       "         ... \n",
       "10678     150\n",
       "10679     155\n",
       "10680     180\n",
       "10681     160\n",
       "10682     500\n",
       "Length: 10682, dtype: int64"
      ]
     },
     "execution_count": 36,
     "metadata": {},
     "output_type": "execute_result"
    }
   ],
   "source": [
    "(\n",
    "\tflights\n",
    "\t.Duration\n",
    "\t.drop(index=6474)\n",
    "\t.str.split(\" \", expand=True)\n",
    "\t.set_axis([\"hour\", \"minute\"], axis=1)\n",
    "\t.assign(\n",
    "\t\thour=lambda df_: (\n",
    "\t\t\tdf_\n",
    "\t\t\t.hour\n",
    "\t\t\t.str.replace(\"h\", \"\")\n",
    "\t\t\t.astype(int)\n",
    "\t\t\t.mul(60)\n",
    "\t\t),\n",
    "\t\tminute=lambda df_: (\n",
    "\t\t\tdf_\n",
    "\t\t\t.minute\n",
    "\t\t\t.str.replace(\"m\", \"\")\n",
    "\t\t\t.fillna(\"0\")\n",
    "\t\t\t.astype(int)\n",
    "\t\t)\n",
    "\t)\n",
    "\t.sum(axis=1)\n",
    ")"
   ]
  },
  {
   "cell_type": "code",
   "execution_count": 37,
   "id": "6d67145b-ebc5-428d-ae60-aee863d4b013",
   "metadata": {},
   "outputs": [
    {
     "data": {
      "text/html": [
       "<div>\n",
       "<style scoped>\n",
       "    .dataframe tbody tr th:only-of-type {\n",
       "        vertical-align: middle;\n",
       "    }\n",
       "\n",
       "    .dataframe tbody tr th {\n",
       "        vertical-align: top;\n",
       "    }\n",
       "\n",
       "    .dataframe thead th {\n",
       "        text-align: right;\n",
       "    }\n",
       "</style>\n",
       "<table border=\"1\" class=\"dataframe\">\n",
       "  <thead>\n",
       "    <tr style=\"text-align: right;\">\n",
       "      <th></th>\n",
       "      <th>duration_minutes</th>\n",
       "      <th>Duration</th>\n",
       "    </tr>\n",
       "  </thead>\n",
       "  <tbody>\n",
       "    <tr>\n",
       "      <th>0</th>\n",
       "      <td>170</td>\n",
       "      <td>2h 50m</td>\n",
       "    </tr>\n",
       "    <tr>\n",
       "      <th>1</th>\n",
       "      <td>445</td>\n",
       "      <td>7h 25m</td>\n",
       "    </tr>\n",
       "    <tr>\n",
       "      <th>2</th>\n",
       "      <td>1140</td>\n",
       "      <td>19h</td>\n",
       "    </tr>\n",
       "    <tr>\n",
       "      <th>3</th>\n",
       "      <td>325</td>\n",
       "      <td>5h 25m</td>\n",
       "    </tr>\n",
       "    <tr>\n",
       "      <th>4</th>\n",
       "      <td>285</td>\n",
       "      <td>4h 45m</td>\n",
       "    </tr>\n",
       "    <tr>\n",
       "      <th>...</th>\n",
       "      <td>...</td>\n",
       "      <td>...</td>\n",
       "    </tr>\n",
       "    <tr>\n",
       "      <th>10678</th>\n",
       "      <td>150</td>\n",
       "      <td>2h 30m</td>\n",
       "    </tr>\n",
       "    <tr>\n",
       "      <th>10679</th>\n",
       "      <td>155</td>\n",
       "      <td>2h 35m</td>\n",
       "    </tr>\n",
       "    <tr>\n",
       "      <th>10680</th>\n",
       "      <td>180</td>\n",
       "      <td>3h</td>\n",
       "    </tr>\n",
       "    <tr>\n",
       "      <th>10681</th>\n",
       "      <td>160</td>\n",
       "      <td>2h 40m</td>\n",
       "    </tr>\n",
       "    <tr>\n",
       "      <th>10682</th>\n",
       "      <td>500</td>\n",
       "      <td>8h 20m</td>\n",
       "    </tr>\n",
       "  </tbody>\n",
       "</table>\n",
       "<p>10682 rows × 2 columns</p>\n",
       "</div>"
      ],
      "text/plain": [
       "       duration_minutes Duration\n",
       "0                   170   2h 50m\n",
       "1                   445   7h 25m\n",
       "2                  1140      19h\n",
       "3                   325   5h 25m\n",
       "4                   285   4h 45m\n",
       "...                 ...      ...\n",
       "10678               150   2h 30m\n",
       "10679               155   2h 35m\n",
       "10680               180       3h\n",
       "10681               160   2h 40m\n",
       "10682               500   8h 20m\n",
       "\n",
       "[10682 rows x 2 columns]"
      ]
     },
     "execution_count": 37,
     "metadata": {},
     "output_type": "execute_result"
    }
   ],
   "source": [
    "(\n",
    "\tflights\n",
    "\t.Duration\n",
    "\t.drop(index=6474)\n",
    "\t.str.split(\" \", expand=True)\n",
    "\t.set_axis([\"hour\", \"minute\"], axis=1)\n",
    "\t.assign(\n",
    "\t\thour=lambda df_: (\n",
    "\t\t\tdf_\n",
    "\t\t\t.hour\n",
    "\t\t\t.str.replace(\"h\", \"\")\n",
    "\t\t\t.astype(int)\n",
    "\t\t\t.mul(60)\n",
    "\t\t),\n",
    "\t\tminute=lambda df_: (\n",
    "\t\t\tdf_\n",
    "\t\t\t.minute\n",
    "\t\t\t.str.replace(\"m\", \"\")\n",
    "\t\t\t.fillna(\"0\")\n",
    "\t\t\t.astype(int)\n",
    "\t\t)\n",
    "\t)\n",
    "\t.sum(axis=1)\n",
    "\t.rename(\"duration_minutes\")\n",
    "\t.to_frame()\n",
    "\t.join(flights.Duration.drop(index=6474))\n",
    ")"
   ]
  },
  {
   "cell_type": "markdown",
   "id": "617941d6-4394-4f0c-8c1f-fb99b22dce94",
   "metadata": {},
   "source": [
    "### Total_Stops"
   ]
  },
  {
   "cell_type": "code",
   "execution_count": 38,
   "id": "a3f05593-ecff-4ea6-934a-46948407c474",
   "metadata": {},
   "outputs": [
    {
     "data": {
      "text/plain": [
       "array(['non-stop', '2 stops', '1 stop', '3 stops', nan, '4 stops'],\n",
       "      dtype=object)"
      ]
     },
     "execution_count": 38,
     "metadata": {},
     "output_type": "execute_result"
    }
   ],
   "source": [
    "flights.Total_Stops.unique()"
   ]
  },
  {
   "cell_type": "code",
   "execution_count": 39,
   "id": "fea836b7-2da7-4738-b814-67834d6778cc",
   "metadata": {},
   "outputs": [
    {
     "data": {
      "text/plain": [
       "0        0.0\n",
       "1        2.0\n",
       "2        2.0\n",
       "3        1.0\n",
       "4        1.0\n",
       "        ... \n",
       "10678    0.0\n",
       "10679    0.0\n",
       "10680    0.0\n",
       "10681    0.0\n",
       "10682    2.0\n",
       "Name: Total_Stops, Length: 10683, dtype: float64"
      ]
     },
     "execution_count": 39,
     "metadata": {},
     "output_type": "execute_result"
    }
   ],
   "source": [
    "(\n",
    "\tflights\n",
    "\t.Total_Stops\n",
    "\t.replace(\"non-stop\", \"0\")\n",
    "\t.str.replace(\" stops?\", \"\", regex=True) # \" stop\" \" stops\"\n",
    "\t.pipe(lambda ser: pd.to_numeric(ser))\n",
    ")\n"
   ]
  },
  {
   "cell_type": "markdown",
   "id": "bd4569d2-d061-49ea-9054-cfe1d2485cf1",
   "metadata": {},
   "source": [
    "### additional_info"
   ]
  },
  {
   "cell_type": "code",
   "execution_count": 40,
   "id": "d9f915cd-8bf4-4526-a924-21561f04475c",
   "metadata": {},
   "outputs": [
    {
     "data": {
      "text/plain": [
       "array(['No info', 'In-flight meal not included',\n",
       "       'No check-in baggage included', '1 Short layover', 'No Info',\n",
       "       '1 Long layover', 'Change airports', 'Business class',\n",
       "       'Red-eye flight', '2 Long layover'], dtype=object)"
      ]
     },
     "execution_count": 40,
     "metadata": {},
     "output_type": "execute_result"
    }
   ],
   "source": [
    "flights.Additional_Info.unique()"
   ]
  },
  {
   "cell_type": "markdown",
   "id": "8bbb5975-2579-4180-9e28-179599f9bcf9",
   "metadata": {},
   "source": [
    "## 5. Cleaning Operations"
   ]
  },
  {
   "cell_type": "code",
   "execution_count": 41,
   "id": "24858096-b6ee-429c-830a-e42a75ecb333",
   "metadata": {},
   "outputs": [],
   "source": [
    "def convert_to_minutes(ser):\n",
    "\treturn (\n",
    "\t\tser\n",
    "\t\t.str.split(\" \", expand=True)\n",
    "\t\t.set_axis([\"hour\", \"minute\"], axis=1)\n",
    "\t\t.assign(\n",
    "\t\t\thour=lambda df_: (\n",
    "\t\t\t\tdf_\n",
    "\t\t\t\t.hour\n",
    "\t\t\t\t.str.replace(\"h\", \"\")\n",
    "\t\t\t\t.astype(int)\n",
    "\t\t\t\t.mul(60)\n",
    "\t\t\t),\n",
    "\t\t\tminute=lambda df_: (\n",
    "\t\t\t\tdf_\n",
    "\t\t\t\t.minute\n",
    "\t\t\t\t.str.replace(\"m\", \"\")\n",
    "\t\t\t\t.fillna(\"0\")\n",
    "\t\t\t\t.astype(int)\n",
    "\t\t\t)\n",
    "\t\t)\n",
    "\t\t.sum(axis=1)\n",
    "\t)"
   ]
  },
  {
   "cell_type": "code",
   "execution_count": 42,
   "id": "eb65c8b4-f104-42d6-b369-db091823fd66",
   "metadata": {},
   "outputs": [],
   "source": [
    "def clean_data(df):\n",
    "\treturn (\n",
    "\t\tdf\n",
    "\t\t.drop(index=[6474])\n",
    "\t\t.drop_duplicates()\n",
    "\t\t.assign(**{\n",
    "\t\t\tcol: df[col].str.strip()\n",
    "\t\t\tfor col in df.select_dtypes(include=\"O\").columns\n",
    "\t\t})\n",
    "\t\t.rename(columns=str.lower)\n",
    "\t\t.assign(\n",
    "\t\t\tairline=lambda df_: (\n",
    "\t\t\t\tdf_\n",
    "\t\t\t\t.airline\n",
    "\t\t\t\t.str.replace(\" Premium economy\", \"\")\n",
    "\t\t\t\t.str.replace(\" Business\", \"\")\n",
    "\t\t\t\t.str.title()\n",
    "\t\t\t),\n",
    "\t\t\tdate_of_journey=lambda df_: pd.to_datetime(df_.date_of_journey, dayfirst=True),\n",
    "\t\t\tdep_time=lambda df_: pd.to_datetime(df_.dep_time).dt.time,\n",
    "\t\t\tarrival_time=lambda df_: pd.to_datetime(df_.arrival_time).dt.time,\n",
    "\t\t\tduration=lambda df_: df_.duration.pipe(convert_to_minutes),\n",
    "\t\t\ttotal_stops=lambda df_: (\n",
    "\t\t\t\tdf_\n",
    "\t\t\t\t.total_stops\n",
    "\t\t\t\t.replace(\"non-stop\", \"0\")\n",
    "\t\t\t\t.str.replace(\" stops?\", \"\", regex=True)\n",
    "\t\t\t\t.pipe(lambda ser: pd.to_numeric(ser))\n",
    "\t\t\t),\n",
    "\t\t\tadditional_info=lambda df_: df_.additional_info.replace(\"No info\", \"No Info\")\n",
    "\t\t)\n",
    "\t\t.drop(columns=\"route\")\n",
    "\t)"
   ]
  },
  {
   "cell_type": "code",
   "execution_count": 43,
   "id": "42f59bee-1c98-4e31-b7d6-749bbe7f65fd",
   "metadata": {},
   "outputs": [
    {
     "name": "stderr",
     "output_type": "stream",
     "text": [
      "C:\\Users\\saumya\\AppData\\Local\\Temp\\ipykernel_24784\\3708629844.py:20: UserWarning: Could not infer format, so each element will be parsed individually, falling back to `dateutil`. To ensure parsing is consistent and as-expected, please specify a format.\n",
      "  dep_time=lambda df_: pd.to_datetime(df_.dep_time).dt.time,\n",
      "C:\\Users\\saumya\\AppData\\Local\\Temp\\ipykernel_24784\\3708629844.py:21: UserWarning: Could not infer format, so each element will be parsed individually, falling back to `dateutil`. To ensure parsing is consistent and as-expected, please specify a format.\n",
      "  arrival_time=lambda df_: pd.to_datetime(df_.arrival_time).dt.time,\n"
     ]
    },
    {
     "data": {
      "text/html": [
       "<div>\n",
       "<style scoped>\n",
       "    .dataframe tbody tr th:only-of-type {\n",
       "        vertical-align: middle;\n",
       "    }\n",
       "\n",
       "    .dataframe tbody tr th {\n",
       "        vertical-align: top;\n",
       "    }\n",
       "\n",
       "    .dataframe thead th {\n",
       "        text-align: right;\n",
       "    }\n",
       "</style>\n",
       "<table border=\"1\" class=\"dataframe\">\n",
       "  <thead>\n",
       "    <tr style=\"text-align: right;\">\n",
       "      <th></th>\n",
       "      <th>airline</th>\n",
       "      <th>date_of_journey</th>\n",
       "      <th>source</th>\n",
       "      <th>destination</th>\n",
       "      <th>dep_time</th>\n",
       "      <th>arrival_time</th>\n",
       "      <th>duration</th>\n",
       "      <th>total_stops</th>\n",
       "      <th>additional_info</th>\n",
       "      <th>price</th>\n",
       "    </tr>\n",
       "  </thead>\n",
       "  <tbody>\n",
       "    <tr>\n",
       "      <th>0</th>\n",
       "      <td>Indigo</td>\n",
       "      <td>2019-03-24</td>\n",
       "      <td>Banglore</td>\n",
       "      <td>New Delhi</td>\n",
       "      <td>22:20:00</td>\n",
       "      <td>01:10:00</td>\n",
       "      <td>170</td>\n",
       "      <td>0.0</td>\n",
       "      <td>No Info</td>\n",
       "      <td>3897</td>\n",
       "    </tr>\n",
       "    <tr>\n",
       "      <th>1</th>\n",
       "      <td>Air India</td>\n",
       "      <td>2019-05-01</td>\n",
       "      <td>Kolkata</td>\n",
       "      <td>Banglore</td>\n",
       "      <td>05:50:00</td>\n",
       "      <td>13:15:00</td>\n",
       "      <td>445</td>\n",
       "      <td>2.0</td>\n",
       "      <td>No Info</td>\n",
       "      <td>7662</td>\n",
       "    </tr>\n",
       "    <tr>\n",
       "      <th>2</th>\n",
       "      <td>Jet Airways</td>\n",
       "      <td>2019-06-09</td>\n",
       "      <td>Delhi</td>\n",
       "      <td>Cochin</td>\n",
       "      <td>09:25:00</td>\n",
       "      <td>04:25:00</td>\n",
       "      <td>1140</td>\n",
       "      <td>2.0</td>\n",
       "      <td>No Info</td>\n",
       "      <td>13882</td>\n",
       "    </tr>\n",
       "    <tr>\n",
       "      <th>3</th>\n",
       "      <td>Indigo</td>\n",
       "      <td>2019-05-12</td>\n",
       "      <td>Kolkata</td>\n",
       "      <td>Banglore</td>\n",
       "      <td>18:05:00</td>\n",
       "      <td>23:30:00</td>\n",
       "      <td>325</td>\n",
       "      <td>1.0</td>\n",
       "      <td>No Info</td>\n",
       "      <td>6218</td>\n",
       "    </tr>\n",
       "    <tr>\n",
       "      <th>4</th>\n",
       "      <td>Indigo</td>\n",
       "      <td>2019-03-01</td>\n",
       "      <td>Banglore</td>\n",
       "      <td>New Delhi</td>\n",
       "      <td>16:50:00</td>\n",
       "      <td>21:35:00</td>\n",
       "      <td>285</td>\n",
       "      <td>1.0</td>\n",
       "      <td>No Info</td>\n",
       "      <td>13302</td>\n",
       "    </tr>\n",
       "    <tr>\n",
       "      <th>...</th>\n",
       "      <td>...</td>\n",
       "      <td>...</td>\n",
       "      <td>...</td>\n",
       "      <td>...</td>\n",
       "      <td>...</td>\n",
       "      <td>...</td>\n",
       "      <td>...</td>\n",
       "      <td>...</td>\n",
       "      <td>...</td>\n",
       "      <td>...</td>\n",
       "    </tr>\n",
       "    <tr>\n",
       "      <th>10678</th>\n",
       "      <td>Air Asia</td>\n",
       "      <td>2019-04-09</td>\n",
       "      <td>Kolkata</td>\n",
       "      <td>Banglore</td>\n",
       "      <td>19:55:00</td>\n",
       "      <td>22:25:00</td>\n",
       "      <td>150</td>\n",
       "      <td>0.0</td>\n",
       "      <td>No Info</td>\n",
       "      <td>4107</td>\n",
       "    </tr>\n",
       "    <tr>\n",
       "      <th>10679</th>\n",
       "      <td>Air India</td>\n",
       "      <td>2019-04-27</td>\n",
       "      <td>Kolkata</td>\n",
       "      <td>Banglore</td>\n",
       "      <td>20:45:00</td>\n",
       "      <td>23:20:00</td>\n",
       "      <td>155</td>\n",
       "      <td>0.0</td>\n",
       "      <td>No Info</td>\n",
       "      <td>4145</td>\n",
       "    </tr>\n",
       "    <tr>\n",
       "      <th>10680</th>\n",
       "      <td>Jet Airways</td>\n",
       "      <td>2019-04-27</td>\n",
       "      <td>Banglore</td>\n",
       "      <td>Delhi</td>\n",
       "      <td>08:20:00</td>\n",
       "      <td>11:20:00</td>\n",
       "      <td>180</td>\n",
       "      <td>0.0</td>\n",
       "      <td>No Info</td>\n",
       "      <td>7229</td>\n",
       "    </tr>\n",
       "    <tr>\n",
       "      <th>10681</th>\n",
       "      <td>Vistara</td>\n",
       "      <td>2019-03-01</td>\n",
       "      <td>Banglore</td>\n",
       "      <td>New Delhi</td>\n",
       "      <td>11:30:00</td>\n",
       "      <td>14:10:00</td>\n",
       "      <td>160</td>\n",
       "      <td>0.0</td>\n",
       "      <td>No Info</td>\n",
       "      <td>12648</td>\n",
       "    </tr>\n",
       "    <tr>\n",
       "      <th>10682</th>\n",
       "      <td>Air India</td>\n",
       "      <td>2019-05-09</td>\n",
       "      <td>Delhi</td>\n",
       "      <td>Cochin</td>\n",
       "      <td>10:55:00</td>\n",
       "      <td>19:15:00</td>\n",
       "      <td>500</td>\n",
       "      <td>2.0</td>\n",
       "      <td>No Info</td>\n",
       "      <td>11753</td>\n",
       "    </tr>\n",
       "  </tbody>\n",
       "</table>\n",
       "<p>10462 rows × 10 columns</p>\n",
       "</div>"
      ],
      "text/plain": [
       "           airline date_of_journey    source destination  dep_time  \\\n",
       "0           Indigo      2019-03-24  Banglore   New Delhi  22:20:00   \n",
       "1        Air India      2019-05-01   Kolkata    Banglore  05:50:00   \n",
       "2      Jet Airways      2019-06-09     Delhi      Cochin  09:25:00   \n",
       "3           Indigo      2019-05-12   Kolkata    Banglore  18:05:00   \n",
       "4           Indigo      2019-03-01  Banglore   New Delhi  16:50:00   \n",
       "...            ...             ...       ...         ...       ...   \n",
       "10678     Air Asia      2019-04-09   Kolkata    Banglore  19:55:00   \n",
       "10679    Air India      2019-04-27   Kolkata    Banglore  20:45:00   \n",
       "10680  Jet Airways      2019-04-27  Banglore       Delhi  08:20:00   \n",
       "10681      Vistara      2019-03-01  Banglore   New Delhi  11:30:00   \n",
       "10682    Air India      2019-05-09     Delhi      Cochin  10:55:00   \n",
       "\n",
       "      arrival_time  duration  total_stops additional_info  price  \n",
       "0         01:10:00       170          0.0         No Info   3897  \n",
       "1         13:15:00       445          2.0         No Info   7662  \n",
       "2         04:25:00      1140          2.0         No Info  13882  \n",
       "3         23:30:00       325          1.0         No Info   6218  \n",
       "4         21:35:00       285          1.0         No Info  13302  \n",
       "...            ...       ...          ...             ...    ...  \n",
       "10678     22:25:00       150          0.0         No Info   4107  \n",
       "10679     23:20:00       155          0.0         No Info   4145  \n",
       "10680     11:20:00       180          0.0         No Info   7229  \n",
       "10681     14:10:00       160          0.0         No Info  12648  \n",
       "10682     19:15:00       500          2.0         No Info  11753  \n",
       "\n",
       "[10462 rows x 10 columns]"
      ]
     },
     "execution_count": 43,
     "metadata": {},
     "output_type": "execute_result"
    }
   ],
   "source": [
    "flights_cleaned = clean_data(flights)\n",
    "flights_cleaned"
   ]
  },
  {
   "cell_type": "markdown",
   "id": "dd974736-022f-455a-9ac1-70c44ae82aa2",
   "metadata": {},
   "source": [
    "## 6. Split the Data"
   ]
  },
  {
   "cell_type": "code",
   "execution_count": 44,
   "id": "d77c5d6c-edc4-47f6-83ad-8371d5bf6cbf",
   "metadata": {},
   "outputs": [],
   "source": [
    "flights_final = flights_cleaned.sample(1000)"
   ]
  },
  {
   "cell_type": "code",
   "execution_count": 45,
   "id": "a411e329-37b3-445e-9f87-cdac60ea41b1",
   "metadata": {},
   "outputs": [],
   "source": [
    "X = flights_final.drop(columns=\"price\")\n",
    "y = flights_final.price.copy()"
   ]
  },
  {
   "cell_type": "code",
   "execution_count": 46,
   "id": "f8faab19-c5bd-448d-b9b6-7f46c13c305b",
   "metadata": {},
   "outputs": [
    {
     "name": "stdout",
     "output_type": "stream",
     "text": [
      "(640, 9) (640,)\n",
      "(160, 9) (160,)\n",
      "(200, 9) (200,)\n"
     ]
    }
   ],
   "source": [
    "X_, X_test, y_, y_test = train_test_split(X, y, test_size=0.2, random_state=42)\n",
    "X_train, X_val, y_train, y_val = train_test_split(X_, y_, test_size=0.2, random_state=42)\n",
    "\n",
    "print(X_train.shape, y_train.shape)\n",
    "print(X_val.shape, y_val.shape)\n",
    "print(X_test.shape, y_test.shape)"
   ]
  },
  {
   "cell_type": "markdown",
   "id": "e45df6b0-64c6-4621-b4f0-3337ce84acf5",
   "metadata": {},
   "source": [
    "## 7. Export the Subsets"
   ]
  },
  {
   "cell_type": "code",
   "execution_count": 47,
   "id": "87118d43-b97b-4bdb-b5d3-4bfe37ad06d1",
   "metadata": {},
   "outputs": [],
   "source": [
    "def export_data(X, y, name):\n",
    "\tfile_name = f\"{name}.csv\"\n",
    "\tfile_path = os.path.join(PROJECT_DIR, DATA_DIR, file_name)\n",
    "\n",
    "\tX.join(y).to_csv(file_path, index=False)\n",
    "\n",
    "\treturn pd.read_csv(file_path).head()"
   ]
  },
  {
   "cell_type": "code",
   "execution_count": 48,
   "id": "b5b47743-89a8-4ca5-a6d5-12135bf2c824",
   "metadata": {},
   "outputs": [
    {
     "data": {
      "text/html": [
       "<div>\n",
       "<style scoped>\n",
       "    .dataframe tbody tr th:only-of-type {\n",
       "        vertical-align: middle;\n",
       "    }\n",
       "\n",
       "    .dataframe tbody tr th {\n",
       "        vertical-align: top;\n",
       "    }\n",
       "\n",
       "    .dataframe thead th {\n",
       "        text-align: right;\n",
       "    }\n",
       "</style>\n",
       "<table border=\"1\" class=\"dataframe\">\n",
       "  <thead>\n",
       "    <tr style=\"text-align: right;\">\n",
       "      <th></th>\n",
       "      <th>airline</th>\n",
       "      <th>date_of_journey</th>\n",
       "      <th>source</th>\n",
       "      <th>destination</th>\n",
       "      <th>dep_time</th>\n",
       "      <th>arrival_time</th>\n",
       "      <th>duration</th>\n",
       "      <th>total_stops</th>\n",
       "      <th>additional_info</th>\n",
       "      <th>price</th>\n",
       "    </tr>\n",
       "  </thead>\n",
       "  <tbody>\n",
       "    <tr>\n",
       "      <th>0</th>\n",
       "      <td>Multiple Carriers</td>\n",
       "      <td>2019-06-15</td>\n",
       "      <td>Delhi</td>\n",
       "      <td>Cochin</td>\n",
       "      <td>06:00:00</td>\n",
       "      <td>21:00:00</td>\n",
       "      <td>900</td>\n",
       "      <td>1.0</td>\n",
       "      <td>No Info</td>\n",
       "      <td>7005</td>\n",
       "    </tr>\n",
       "    <tr>\n",
       "      <th>1</th>\n",
       "      <td>Jet Airways</td>\n",
       "      <td>2019-03-06</td>\n",
       "      <td>Banglore</td>\n",
       "      <td>New Delhi</td>\n",
       "      <td>20:35:00</td>\n",
       "      <td>08:15:00</td>\n",
       "      <td>700</td>\n",
       "      <td>1.0</td>\n",
       "      <td>No Info</td>\n",
       "      <td>16736</td>\n",
       "    </tr>\n",
       "    <tr>\n",
       "      <th>2</th>\n",
       "      <td>Jet Airways</td>\n",
       "      <td>2019-06-12</td>\n",
       "      <td>Delhi</td>\n",
       "      <td>Cochin</td>\n",
       "      <td>19:15:00</td>\n",
       "      <td>19:00:00</td>\n",
       "      <td>1425</td>\n",
       "      <td>1.0</td>\n",
       "      <td>In-flight meal not included</td>\n",
       "      <td>10262</td>\n",
       "    </tr>\n",
       "    <tr>\n",
       "      <th>3</th>\n",
       "      <td>Jet Airways</td>\n",
       "      <td>2019-03-21</td>\n",
       "      <td>Delhi</td>\n",
       "      <td>Cochin</td>\n",
       "      <td>18:25:00</td>\n",
       "      <td>18:50:00</td>\n",
       "      <td>1465</td>\n",
       "      <td>2.0</td>\n",
       "      <td>No Info</td>\n",
       "      <td>12347</td>\n",
       "    </tr>\n",
       "    <tr>\n",
       "      <th>4</th>\n",
       "      <td>Indigo</td>\n",
       "      <td>2019-03-21</td>\n",
       "      <td>Delhi</td>\n",
       "      <td>Cochin</td>\n",
       "      <td>06:40:00</td>\n",
       "      <td>13:20:00</td>\n",
       "      <td>400</td>\n",
       "      <td>1.0</td>\n",
       "      <td>No Info</td>\n",
       "      <td>10208</td>\n",
       "    </tr>\n",
       "  </tbody>\n",
       "</table>\n",
       "</div>"
      ],
      "text/plain": [
       "             airline date_of_journey    source destination  dep_time  \\\n",
       "0  Multiple Carriers      2019-06-15     Delhi      Cochin  06:00:00   \n",
       "1        Jet Airways      2019-03-06  Banglore   New Delhi  20:35:00   \n",
       "2        Jet Airways      2019-06-12     Delhi      Cochin  19:15:00   \n",
       "3        Jet Airways      2019-03-21     Delhi      Cochin  18:25:00   \n",
       "4             Indigo      2019-03-21     Delhi      Cochin  06:40:00   \n",
       "\n",
       "  arrival_time  duration  total_stops              additional_info  price  \n",
       "0     21:00:00       900          1.0                      No Info   7005  \n",
       "1     08:15:00       700          1.0                      No Info  16736  \n",
       "2     19:00:00      1425          1.0  In-flight meal not included  10262  \n",
       "3     18:50:00      1465          2.0                      No Info  12347  \n",
       "4     13:20:00       400          1.0                      No Info  10208  "
      ]
     },
     "execution_count": 48,
     "metadata": {},
     "output_type": "execute_result"
    }
   ],
   "source": [
    "export_data(X_train, y_train, \"train\")"
   ]
  },
  {
   "cell_type": "code",
   "execution_count": 49,
   "id": "ed3638d9-9dcb-4c95-877a-d2c76eb92326",
   "metadata": {},
   "outputs": [
    {
     "data": {
      "text/html": [
       "<div>\n",
       "<style scoped>\n",
       "    .dataframe tbody tr th:only-of-type {\n",
       "        vertical-align: middle;\n",
       "    }\n",
       "\n",
       "    .dataframe tbody tr th {\n",
       "        vertical-align: top;\n",
       "    }\n",
       "\n",
       "    .dataframe thead th {\n",
       "        text-align: right;\n",
       "    }\n",
       "</style>\n",
       "<table border=\"1\" class=\"dataframe\">\n",
       "  <thead>\n",
       "    <tr style=\"text-align: right;\">\n",
       "      <th></th>\n",
       "      <th>airline</th>\n",
       "      <th>date_of_journey</th>\n",
       "      <th>source</th>\n",
       "      <th>destination</th>\n",
       "      <th>dep_time</th>\n",
       "      <th>arrival_time</th>\n",
       "      <th>duration</th>\n",
       "      <th>total_stops</th>\n",
       "      <th>additional_info</th>\n",
       "      <th>price</th>\n",
       "    </tr>\n",
       "  </thead>\n",
       "  <tbody>\n",
       "    <tr>\n",
       "      <th>0</th>\n",
       "      <td>Multiple Carriers</td>\n",
       "      <td>2019-05-18</td>\n",
       "      <td>Delhi</td>\n",
       "      <td>Cochin</td>\n",
       "      <td>04:55:00</td>\n",
       "      <td>19:15:00</td>\n",
       "      <td>860</td>\n",
       "      <td>1.0</td>\n",
       "      <td>No Info</td>\n",
       "      <td>7564</td>\n",
       "    </tr>\n",
       "    <tr>\n",
       "      <th>1</th>\n",
       "      <td>Jet Airways</td>\n",
       "      <td>2019-04-09</td>\n",
       "      <td>Banglore</td>\n",
       "      <td>Delhi</td>\n",
       "      <td>15:50:00</td>\n",
       "      <td>18:45:00</td>\n",
       "      <td>175</td>\n",
       "      <td>0.0</td>\n",
       "      <td>No Info</td>\n",
       "      <td>7229</td>\n",
       "    </tr>\n",
       "    <tr>\n",
       "      <th>2</th>\n",
       "      <td>Multiple Carriers</td>\n",
       "      <td>2019-05-27</td>\n",
       "      <td>Delhi</td>\n",
       "      <td>Cochin</td>\n",
       "      <td>13:15:00</td>\n",
       "      <td>22:30:00</td>\n",
       "      <td>555</td>\n",
       "      <td>1.0</td>\n",
       "      <td>No Info</td>\n",
       "      <td>9646</td>\n",
       "    </tr>\n",
       "    <tr>\n",
       "      <th>3</th>\n",
       "      <td>Multiple Carriers</td>\n",
       "      <td>2019-06-27</td>\n",
       "      <td>Delhi</td>\n",
       "      <td>Cochin</td>\n",
       "      <td>11:40:00</td>\n",
       "      <td>01:30:00</td>\n",
       "      <td>830</td>\n",
       "      <td>1.0</td>\n",
       "      <td>In-flight meal not included</td>\n",
       "      <td>5797</td>\n",
       "    </tr>\n",
       "    <tr>\n",
       "      <th>4</th>\n",
       "      <td>Spicejet</td>\n",
       "      <td>2019-04-01</td>\n",
       "      <td>Delhi</td>\n",
       "      <td>Cochin</td>\n",
       "      <td>08:45:00</td>\n",
       "      <td>13:15:00</td>\n",
       "      <td>270</td>\n",
       "      <td>1.0</td>\n",
       "      <td>No Info</td>\n",
       "      <td>4812</td>\n",
       "    </tr>\n",
       "  </tbody>\n",
       "</table>\n",
       "</div>"
      ],
      "text/plain": [
       "             airline date_of_journey    source destination  dep_time  \\\n",
       "0  Multiple Carriers      2019-05-18     Delhi      Cochin  04:55:00   \n",
       "1        Jet Airways      2019-04-09  Banglore       Delhi  15:50:00   \n",
       "2  Multiple Carriers      2019-05-27     Delhi      Cochin  13:15:00   \n",
       "3  Multiple Carriers      2019-06-27     Delhi      Cochin  11:40:00   \n",
       "4           Spicejet      2019-04-01     Delhi      Cochin  08:45:00   \n",
       "\n",
       "  arrival_time  duration  total_stops              additional_info  price  \n",
       "0     19:15:00       860          1.0                      No Info   7564  \n",
       "1     18:45:00       175          0.0                      No Info   7229  \n",
       "2     22:30:00       555          1.0                      No Info   9646  \n",
       "3     01:30:00       830          1.0  In-flight meal not included   5797  \n",
       "4     13:15:00       270          1.0                      No Info   4812  "
      ]
     },
     "execution_count": 49,
     "metadata": {},
     "output_type": "execute_result"
    }
   ],
   "source": [
    "export_data(X_val, y_val, \"val\")"
   ]
  },
  {
   "cell_type": "code",
   "execution_count": 50,
   "id": "d1206a82-f748-4977-96d6-84032b841ae9",
   "metadata": {},
   "outputs": [
    {
     "data": {
      "text/html": [
       "<div>\n",
       "<style scoped>\n",
       "    .dataframe tbody tr th:only-of-type {\n",
       "        vertical-align: middle;\n",
       "    }\n",
       "\n",
       "    .dataframe tbody tr th {\n",
       "        vertical-align: top;\n",
       "    }\n",
       "\n",
       "    .dataframe thead th {\n",
       "        text-align: right;\n",
       "    }\n",
       "</style>\n",
       "<table border=\"1\" class=\"dataframe\">\n",
       "  <thead>\n",
       "    <tr style=\"text-align: right;\">\n",
       "      <th></th>\n",
       "      <th>airline</th>\n",
       "      <th>date_of_journey</th>\n",
       "      <th>source</th>\n",
       "      <th>destination</th>\n",
       "      <th>dep_time</th>\n",
       "      <th>arrival_time</th>\n",
       "      <th>duration</th>\n",
       "      <th>total_stops</th>\n",
       "      <th>additional_info</th>\n",
       "      <th>price</th>\n",
       "    </tr>\n",
       "  </thead>\n",
       "  <tbody>\n",
       "    <tr>\n",
       "      <th>0</th>\n",
       "      <td>Spicejet</td>\n",
       "      <td>2019-06-15</td>\n",
       "      <td>Kolkata</td>\n",
       "      <td>Banglore</td>\n",
       "      <td>14:55:00</td>\n",
       "      <td>17:25:00</td>\n",
       "      <td>150</td>\n",
       "      <td>0.0</td>\n",
       "      <td>No Info</td>\n",
       "      <td>3873</td>\n",
       "    </tr>\n",
       "    <tr>\n",
       "      <th>1</th>\n",
       "      <td>Air India</td>\n",
       "      <td>2019-03-18</td>\n",
       "      <td>Banglore</td>\n",
       "      <td>New Delhi</td>\n",
       "      <td>08:50:00</td>\n",
       "      <td>23:25:00</td>\n",
       "      <td>875</td>\n",
       "      <td>2.0</td>\n",
       "      <td>No Info</td>\n",
       "      <td>11728</td>\n",
       "    </tr>\n",
       "    <tr>\n",
       "      <th>2</th>\n",
       "      <td>Indigo</td>\n",
       "      <td>2019-05-09</td>\n",
       "      <td>Delhi</td>\n",
       "      <td>Cochin</td>\n",
       "      <td>18:35:00</td>\n",
       "      <td>01:30:00</td>\n",
       "      <td>415</td>\n",
       "      <td>1.0</td>\n",
       "      <td>No Info</td>\n",
       "      <td>8542</td>\n",
       "    </tr>\n",
       "    <tr>\n",
       "      <th>3</th>\n",
       "      <td>Jet Airways</td>\n",
       "      <td>2019-06-01</td>\n",
       "      <td>Delhi</td>\n",
       "      <td>Cochin</td>\n",
       "      <td>13:00:00</td>\n",
       "      <td>12:35:00</td>\n",
       "      <td>1415</td>\n",
       "      <td>1.0</td>\n",
       "      <td>In-flight meal not included</td>\n",
       "      <td>10262</td>\n",
       "    </tr>\n",
       "    <tr>\n",
       "      <th>4</th>\n",
       "      <td>Jet Airways</td>\n",
       "      <td>2019-06-27</td>\n",
       "      <td>Mumbai</td>\n",
       "      <td>Hyderabad</td>\n",
       "      <td>10:20:00</td>\n",
       "      <td>11:50:00</td>\n",
       "      <td>90</td>\n",
       "      <td>0.0</td>\n",
       "      <td>No Info</td>\n",
       "      <td>8040</td>\n",
       "    </tr>\n",
       "  </tbody>\n",
       "</table>\n",
       "</div>"
      ],
      "text/plain": [
       "       airline date_of_journey    source destination  dep_time arrival_time  \\\n",
       "0     Spicejet      2019-06-15   Kolkata    Banglore  14:55:00     17:25:00   \n",
       "1    Air India      2019-03-18  Banglore   New Delhi  08:50:00     23:25:00   \n",
       "2       Indigo      2019-05-09     Delhi      Cochin  18:35:00     01:30:00   \n",
       "3  Jet Airways      2019-06-01     Delhi      Cochin  13:00:00     12:35:00   \n",
       "4  Jet Airways      2019-06-27    Mumbai   Hyderabad  10:20:00     11:50:00   \n",
       "\n",
       "   duration  total_stops              additional_info  price  \n",
       "0       150          0.0                      No Info   3873  \n",
       "1       875          2.0                      No Info  11728  \n",
       "2       415          1.0                      No Info   8542  \n",
       "3      1415          1.0  In-flight meal not included  10262  \n",
       "4        90          0.0                      No Info   8040  "
      ]
     },
     "execution_count": 50,
     "metadata": {},
     "output_type": "execute_result"
    }
   ],
   "source": [
    "export_data(X_test, y_test, \"test\")"
   ]
  },
  {
   "cell_type": "code",
   "execution_count": null,
   "id": "7e40f8a8-6ffb-4c5b-9ecd-a3ecd92a9947",
   "metadata": {},
   "outputs": [],
   "source": []
  }
 ],
 "metadata": {
  "kernelspec": {
   "display_name": "Python (demo)",
   "language": "python",
   "name": "demo"
  },
  "language_info": {
   "codemirror_mode": {
    "name": "ipython",
    "version": 3
   },
   "file_extension": ".py",
   "mimetype": "text/x-python",
   "name": "python",
   "nbconvert_exporter": "python",
   "pygments_lexer": "ipython3",
   "version": "3.12.7"
  }
 },
 "nbformat": 4,
 "nbformat_minor": 5
}
