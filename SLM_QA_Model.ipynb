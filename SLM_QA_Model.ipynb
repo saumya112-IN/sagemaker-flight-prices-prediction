{
  "nbformat": 4,
  "nbformat_minor": 0,
  "metadata": {
    "colab": {
      "provenance": [],
      "authorship_tag": "ABX9TyNtz8rILKWMdYS74GRcfs/5",
      "include_colab_link": true
    },
    "kernelspec": {
      "name": "python3",
      "display_name": "Python 3"
    },
    "language_info": {
      "name": "python"
    }
  },
  "cells": [
    {
      "cell_type": "markdown",
      "metadata": {
        "id": "view-in-github",
        "colab_type": "text"
      },
      "source": [
        "<a href=\"https://colab.research.google.com/github/saumya112-IN/sagemaker-flight-prices-prediction/blob/master/SLM_QA_Model.ipynb\" target=\"_parent\"><img src=\"https://colab.research.google.com/assets/colab-badge.svg\" alt=\"Open In Colab\"/></a>"
      ]
    },
    {
      "cell_type": "code",
      "source": [
        "!pip install faiss-cpu"
      ],
      "metadata": {
        "colab": {
          "base_uri": "https://localhost:8080/"
        },
        "id": "lsuRyZDa-h0u",
        "outputId": "1913003d-d9bb-4bb5-e14e-1b0a3fccf033"
      },
      "execution_count": 3,
      "outputs": [
        {
          "output_type": "stream",
          "name": "stdout",
          "text": [
            "Collecting faiss-cpu\n",
            "  Downloading faiss_cpu-1.10.0-cp311-cp311-manylinux_2_28_x86_64.whl.metadata (4.4 kB)\n",
            "Requirement already satisfied: numpy<3.0,>=1.25.0 in /usr/local/lib/python3.11/dist-packages (from faiss-cpu) (1.26.4)\n",
            "Requirement already satisfied: packaging in /usr/local/lib/python3.11/dist-packages (from faiss-cpu) (24.2)\n",
            "Downloading faiss_cpu-1.10.0-cp311-cp311-manylinux_2_28_x86_64.whl (30.7 MB)\n",
            "\u001b[2K   \u001b[90m━━━━━━━━━━━━━━━━━━━━━━━━━━━━━━━━━━━━━━━━\u001b[0m \u001b[32m30.7/30.7 MB\u001b[0m \u001b[31m23.9 MB/s\u001b[0m eta \u001b[36m0:00:00\u001b[0m\n",
            "\u001b[?25hInstalling collected packages: faiss-cpu\n",
            "Successfully installed faiss-cpu-1.10.0\n"
          ]
        }
      ]
    },
    {
      "cell_type": "code",
      "execution_count": 43,
      "metadata": {
        "colab": {
          "base_uri": "https://localhost:8080/"
        },
        "id": "AuYE1MTq-BsI",
        "outputId": "711176c0-2e46-4ac5-e45a-777fab9ee78d"
      },
      "outputs": [
        {
          "output_type": "stream",
          "name": "stdout",
          "text": [
            "Answer: ['accurately retrieve and answer questions from the given text']\n"
          ]
        }
      ],
      "source": [
        "import torch\n",
        "from transformers import AutoTokenizer, AutoModelForQuestionAnswering\n",
        "import faiss\n",
        "import numpy as np\n",
        "\n",
        "class SLMQuestionAnswering:\n",
        "    def __init__(self, model_name=\"distilbert-base-uncased-distilled-squad\"):\n",
        "        self.tokenizer = AutoTokenizer.from_pretrained(model_name)\n",
        "        self.model = AutoModelForQuestionAnswering.from_pretrained(model_name)\n",
        "        self.index = None  # FAISS index for retrieval\n",
        "        self.contexts = []  # Store document chunks\n",
        "\n",
        "    def chunk_text(self, text, chunk_size=512, overlap=50):\n",
        "        \"\"\"Splits the text into overlapping chunks.\"\"\"\n",
        "        words = text.split()\n",
        "        chunks = []\n",
        "        for i in range(0, len(words), chunk_size - overlap):\n",
        "            chunk = \" \".join(words[i:i + chunk_size])\n",
        "            chunks.append(chunk)\n",
        "        return chunks\n",
        "\n",
        "    def build_index(self, text):\n",
        "        \"\"\"Builds FAISS index for efficient retrieval.\"\"\"\n",
        "        self.contexts = self.chunk_text(text)\n",
        "        embeddings = self.get_embeddings(self.contexts)\n",
        "        self.index = faiss.IndexFlatL2(768)\n",
        "        self.index.add(embeddings)\n",
        "\n",
        "    def get_embeddings(self, texts):\n",
        "        \"\"\"Converts texts to embeddings using the model's tokenizer.\"\"\"\n",
        "        with torch.no_grad():\n",
        "           inputs = self.tokenizer(texts, padding=True, truncation=True, return_tensors=\"pt\")\n",
        "           # Access the DistilBERT base model directly using 'distilbert'\n",
        "           outputs = self.model.distilbert(**inputs)\n",
        "           embeddings = outputs.last_hidden_state[:, 0, :].numpy()\n",
        "        return embeddings\n",
        "\n",
        "    def retrieve_context(self, question, top_k=1):\n",
        "        \"\"\"Retrieves the most relevant context for a given question.\"\"\"\n",
        "        question_embedding = self.get_embeddings([question])\n",
        "        _, indices = self.index.search(question_embedding, top_k)\n",
        "        return [self.contexts[i] for i in indices[0]]\n",
        "\n",
        "    def answer_question(self, question):\n",
        "        \"\"\"Answers a question based on retrieved context.\"\"\"\n",
        "        contexts = self.retrieve_context(question)\n",
        "        answers = []\n",
        "        for context in contexts:\n",
        "            inputs = self.tokenizer(question, context, return_tensors=\"pt\", truncation=True)\n",
        "            outputs = self.model(**inputs)\n",
        "            answer_start = torch.argmax(outputs.start_logits)\n",
        "            answer_end = torch.argmax(outputs.end_logits) + 1\n",
        "            answer = self.tokenizer.convert_tokens_to_string(self.tokenizer.convert_ids_to_tokens(inputs['input_ids'][0][answer_start:answer_end]))\n",
        "            answers.append(answer)\n",
        "        return answers\n",
        "\n",
        "# Example Usage\n",
        "slm = SLMQuestionAnswering()\n",
        "book_text = \"This is a sample book content for testing our SLM-based QA model. The model should accurately retrieve and answer questions from the given text.\"\n",
        "slm.build_index(book_text)\n",
        "question = \"What should the model do?\"\n",
        "answers = slm.answer_question(question)\n",
        "print(\"Answer:\", answers)\n"
      ]
    },
    {
      "cell_type": "code",
      "source": [
        "# Initialize the model\n",
        "slm = SLMQuestionAnswering()\n",
        "\n",
        "# Provide a sample book text\n",
        "book_text = \"The sun rises in the east and sets in the west. It provides light and energy to the Earth.\"\n",
        "slm.build_index(book_text)\n",
        "\n",
        "# Ask a question\n",
        "question = \"Where does the sun rise?\"\n",
        "answers = slm.answer_question(question)\n",
        "\n",
        "# Print the output\n",
        "print(\"Predicted Answer:\", answers)\n"
      ],
      "metadata": {
        "colab": {
          "base_uri": "https://localhost:8080/"
        },
        "id": "mawuRHf2BhVE",
        "outputId": "6e61048f-8848-422e-f556-e3f966494129"
      },
      "execution_count": 44,
      "outputs": [
        {
          "output_type": "stream",
          "name": "stdout",
          "text": [
            "Predicted Answer: ['the east']\n"
          ]
        }
      ]
    },
    {
      "cell_type": "code",
      "source": [
        "!pip install evaluate"
      ],
      "metadata": {
        "colab": {
          "base_uri": "https://localhost:8080/"
        },
        "id": "Hi1T-bZDFMQ0",
        "outputId": "808d126a-bda4-4818-94cc-476ebf66c016"
      },
      "execution_count": 29,
      "outputs": [
        {
          "output_type": "stream",
          "name": "stdout",
          "text": [
            "Collecting evaluate\n",
            "  Downloading evaluate-0.4.3-py3-none-any.whl.metadata (9.2 kB)\n",
            "Requirement already satisfied: datasets>=2.0.0 in /usr/local/lib/python3.11/dist-packages (from evaluate) (3.2.0)\n",
            "Requirement already satisfied: numpy>=1.17 in /usr/local/lib/python3.11/dist-packages (from evaluate) (1.26.4)\n",
            "Requirement already satisfied: dill in /usr/local/lib/python3.11/dist-packages (from evaluate) (0.3.8)\n",
            "Requirement already satisfied: pandas in /usr/local/lib/python3.11/dist-packages (from evaluate) (2.2.2)\n",
            "Requirement already satisfied: requests>=2.19.0 in /usr/local/lib/python3.11/dist-packages (from evaluate) (2.32.3)\n",
            "Requirement already satisfied: tqdm>=4.62.1 in /usr/local/lib/python3.11/dist-packages (from evaluate) (4.67.1)\n",
            "Requirement already satisfied: xxhash in /usr/local/lib/python3.11/dist-packages (from evaluate) (3.5.0)\n",
            "Requirement already satisfied: multiprocess in /usr/local/lib/python3.11/dist-packages (from evaluate) (0.70.16)\n",
            "Requirement already satisfied: fsspec>=2021.05.0 in /usr/local/lib/python3.11/dist-packages (from fsspec[http]>=2021.05.0->evaluate) (2024.9.0)\n",
            "Requirement already satisfied: huggingface-hub>=0.7.0 in /usr/local/lib/python3.11/dist-packages (from evaluate) (0.28.1)\n",
            "Requirement already satisfied: packaging in /usr/local/lib/python3.11/dist-packages (from evaluate) (24.2)\n",
            "Requirement already satisfied: filelock in /usr/local/lib/python3.11/dist-packages (from datasets>=2.0.0->evaluate) (3.17.0)\n",
            "Requirement already satisfied: pyarrow>=15.0.0 in /usr/local/lib/python3.11/dist-packages (from datasets>=2.0.0->evaluate) (17.0.0)\n",
            "Requirement already satisfied: aiohttp in /usr/local/lib/python3.11/dist-packages (from datasets>=2.0.0->evaluate) (3.11.11)\n",
            "Requirement already satisfied: pyyaml>=5.1 in /usr/local/lib/python3.11/dist-packages (from datasets>=2.0.0->evaluate) (6.0.2)\n",
            "Requirement already satisfied: typing-extensions>=3.7.4.3 in /usr/local/lib/python3.11/dist-packages (from huggingface-hub>=0.7.0->evaluate) (4.12.2)\n",
            "Requirement already satisfied: charset-normalizer<4,>=2 in /usr/local/lib/python3.11/dist-packages (from requests>=2.19.0->evaluate) (3.4.1)\n",
            "Requirement already satisfied: idna<4,>=2.5 in /usr/local/lib/python3.11/dist-packages (from requests>=2.19.0->evaluate) (3.10)\n",
            "Requirement already satisfied: urllib3<3,>=1.21.1 in /usr/local/lib/python3.11/dist-packages (from requests>=2.19.0->evaluate) (2.3.0)\n",
            "Requirement already satisfied: certifi>=2017.4.17 in /usr/local/lib/python3.11/dist-packages (from requests>=2.19.0->evaluate) (2025.1.31)\n",
            "Requirement already satisfied: python-dateutil>=2.8.2 in /usr/local/lib/python3.11/dist-packages (from pandas->evaluate) (2.8.2)\n",
            "Requirement already satisfied: pytz>=2020.1 in /usr/local/lib/python3.11/dist-packages (from pandas->evaluate) (2025.1)\n",
            "Requirement already satisfied: tzdata>=2022.7 in /usr/local/lib/python3.11/dist-packages (from pandas->evaluate) (2025.1)\n",
            "Requirement already satisfied: aiohappyeyeballs>=2.3.0 in /usr/local/lib/python3.11/dist-packages (from aiohttp->datasets>=2.0.0->evaluate) (2.4.4)\n",
            "Requirement already satisfied: aiosignal>=1.1.2 in /usr/local/lib/python3.11/dist-packages (from aiohttp->datasets>=2.0.0->evaluate) (1.3.2)\n",
            "Requirement already satisfied: attrs>=17.3.0 in /usr/local/lib/python3.11/dist-packages (from aiohttp->datasets>=2.0.0->evaluate) (25.1.0)\n",
            "Requirement already satisfied: frozenlist>=1.1.1 in /usr/local/lib/python3.11/dist-packages (from aiohttp->datasets>=2.0.0->evaluate) (1.5.0)\n",
            "Requirement already satisfied: multidict<7.0,>=4.5 in /usr/local/lib/python3.11/dist-packages (from aiohttp->datasets>=2.0.0->evaluate) (6.1.0)\n",
            "Requirement already satisfied: propcache>=0.2.0 in /usr/local/lib/python3.11/dist-packages (from aiohttp->datasets>=2.0.0->evaluate) (0.2.1)\n",
            "Requirement already satisfied: yarl<2.0,>=1.17.0 in /usr/local/lib/python3.11/dist-packages (from aiohttp->datasets>=2.0.0->evaluate) (1.18.3)\n",
            "Requirement already satisfied: six>=1.5 in /usr/local/lib/python3.11/dist-packages (from python-dateutil>=2.8.2->pandas->evaluate) (1.17.0)\n",
            "Downloading evaluate-0.4.3-py3-none-any.whl (84 kB)\n",
            "\u001b[2K   \u001b[90m━━━━━━━━━━━━━━━━━━━━━━━━━━━━━━━━━━━━━━━━\u001b[0m \u001b[32m84.0/84.0 kB\u001b[0m \u001b[31m3.9 MB/s\u001b[0m eta \u001b[36m0:00:00\u001b[0m\n",
            "\u001b[?25hInstalling collected packages: evaluate\n",
            "Successfully installed evaluate-0.4.3\n"
          ]
        }
      ]
    },
    {
      "cell_type": "code",
      "source": [
        "#!pip install evaluate\n",
        "import evaluate\n",
        "\n",
        "class SLMQuestionAnswering:\n",
        "    def __init__(self, model_name=\"distilbert-base-uncased-distilled-squad\"):\n",
        "        self.tokenizer = AutoTokenizer.from_pretrained(model_name)\n",
        "        self.model = AutoModelForQuestionAnswering.from_pretrained(model_name)\n",
        "        self.index = None  # FAISS index for retrieval\n",
        "        self.contexts = []  # Store document chunks\n",
        "\n",
        "    def chunk_text(self, text, chunk_size=512, overlap=50):\n",
        "        \"\"\"Splits the text into overlapping chunks.\"\"\"\n",
        "        words = text.split()\n",
        "        chunks = []\n",
        "        for i in range(0, len(words), chunk_size - overlap):\n",
        "            chunk = \" \".join(words[i:i + chunk_size])\n",
        "            chunks.append(chunk)\n",
        "        return chunks\n",
        "\n",
        "    def build_index(self, text):\n",
        "        \"\"\"Builds FAISS index for efficient retrieval.\"\"\"\n",
        "        self.contexts = self.chunk_text(text)\n",
        "        embeddings = self.get_embeddings(self.contexts)\n",
        "        self.index = faiss.IndexFlatL2(768)\n",
        "        self.index.add(embeddings)\n",
        "\n",
        "    def get_embeddings(self, texts):\n",
        "        \"\"\"Converts texts to embeddings using the model's tokenizer.\"\"\"\n",
        "        with torch.no_grad():\n",
        "           inputs = self.tokenizer(texts, padding=True, truncation=True, return_tensors=\"pt\")\n",
        "           # Access the DistilBERT base model directly using 'distilbert'\n",
        "           outputs = self.model.distilbert(**inputs)\n",
        "           embeddings = outputs.last_hidden_state[:, 0, :].numpy()\n",
        "        return embeddings\n",
        "\n",
        "    def retrieve_context(self, question, top_k=1):\n",
        "        \"\"\"Retrieves the most relevant context for a given question.\"\"\"\n",
        "        question_embedding = self.get_embeddings([question])\n",
        "        _, indices = self.index.search(question_embedding, top_k)\n",
        "        return [self.contexts[i] for i in indices[0]]\n",
        "\n",
        "    def answer_question(self, question):\n",
        "        \"\"\"Answers a question based on retrieved context.\"\"\"\n",
        "        contexts = self.retrieve_context(question)\n",
        "        answers = []\n",
        "        for context in contexts:\n",
        "            inputs = self.tokenizer(question, context, return_tensors=\"pt\", truncation=True)\n",
        "            outputs = self.model(**inputs)\n",
        "            answer_start = torch.argmax(outputs.start_logits)\n",
        "            answer_end = torch.argmax(outputs.end_logits) + 1\n",
        "            answer = self.tokenizer.convert_tokens_to_string(self.tokenizer.convert_ids_to_tokens(inputs['input_ids'][0][answer_start:answer_end]))\n",
        "            answers.append(answer)\n",
        "        return answers\n",
        "\n",
        "    def evaluate(self, dataset):\n",
        "        \"\"\"Evaluates the model using Exact Match (EM) and F1-score.\"\"\"\n",
        "        # Use evaluate.load instead of load_metric\n",
        "        metric = evaluate.load(\"squad\")\n",
        "        predictions = []\n",
        "        references = []\n",
        "\n",
        "        for example in dataset:\n",
        "            question = example[\"question\"]\n",
        "            expected_answer = example[\"answers\"][\"text\"][0]\n",
        "            predicted_answer = self.answer_question(question)[0]\n",
        "\n",
        "            predictions.append({\"id\": example[\"id\"], \"prediction_text\": predicted_answer})\n",
        "            references.append({\"id\": example[\"id\"], \"answers\": example[\"answers\"]})\n",
        "\n",
        "        results = metric.compute(predictions=predictions, references=references)\n",
        "        return results"
      ],
      "metadata": {
        "id": "7KW2uoVxGzM8"
      },
      "execution_count": 45,
      "outputs": []
    },
    {
      "cell_type": "code",
      "source": [
        "# Example dataset for evaluation\n",
        "dataset = [\n",
        "    {\n",
        "        \"id\": \"1\",\n",
        "        \"question\": \"Where does the sun rise?\",\n",
        "        \"answers\": {\"text\": [\"in the east\"], \"answer_start\": [13]},\n",
        "    },\n",
        "    {\n",
        "        \"id\": \"2\",\n",
        "        \"question\": \"What does the sun provide?\",\n",
        "        \"answers\": {\"text\": [\"light and energy\"], \"answer_start\": [38]},\n",
        "    }\n",
        "]\n",
        "\n",
        "# Re-instantiate the model to pick up changes to the class definition\n",
        "slm = SLMQuestionAnswering()\n",
        "book_text = \"The sun rises in the east and sets in the west. It provides light and energy to the Earth.\"\n",
        "slm.build_index(book_text)\n",
        "\n",
        "# Evaluate the model\n",
        "results = slm.evaluate(dataset)\n",
        "\n",
        "# Print evaluation metrics\n",
        "print(\"Exact Match (EM):\", results[\"exact_match\"])\n",
        "print(\"F1 Score:\", results[\"f1\"])"
      ],
      "metadata": {
        "colab": {
          "base_uri": "https://localhost:8080/"
        },
        "id": "GSrCXOGOFZEc",
        "outputId": "74f8413a-7359-4b91-d09b-a0db1eaa90e1"
      },
      "execution_count": 46,
      "outputs": [
        {
          "output_type": "stream",
          "name": "stdout",
          "text": [
            "Exact Match (EM): 50.0\n",
            "F1 Score: 83.33333333333333\n"
          ]
        }
      ]
    },
    {
      "cell_type": "markdown",
      "source": [
        "### Evaluation Metrics\n",
        "- **Exact Match (EM):** Measures how often the predicted answer matches the ground truth exactly.\n",
        "- **F1 Score:** Evaluates the overlap between the predicted and actual answer using precision and recall.\n",
        "\n",
        "### Key Learnings\n",
        "- Implemented **FAISS** for context retrieval.\n",
        "- Optimized text chunking for **efficient processing**.\n",
        "- Used **DistilBERT** for lightweight but effective question answering.\n",
        "- Achieved **accurate responses** with minimal compute overhead.\n",
        "- Integrated **evaluation metrics** to assess model performance.\n",
        "\n",
        "### Future Enhancements\n",
        "- Extend support for **multi-turn conversations**.\n",
        "- Implement **longer context handling** using **RAG (Retrieval-Augmented Generation)**.\n",
        "- Deploy as a **web API using FastAPI or Flask**.\n",
        "- Experiment with **other evaluation metrics** like BLEU and ROUGE."
      ],
      "metadata": {
        "id": "JyXasJxMIRU8"
      }
    }
  ]
}